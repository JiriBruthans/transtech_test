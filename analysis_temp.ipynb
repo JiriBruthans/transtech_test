{
 "cells": [
  {
   "cell_type": "code",
   "execution_count": 1,
   "id": "eceaf51e",
   "metadata": {
    "id": "eceaf51e"
   },
   "outputs": [],
   "source": [
    "import scanpy as sc"
   ]
  },
  {
   "cell_type": "code",
   "execution_count": 2,
   "id": "6d8288b8-ed61-4a7a-b717-70f673c12034",
   "metadata": {},
   "outputs": [],
   "source": [
    "import pandas as pd"
   ]
  },
  {
   "cell_type": "code",
   "execution_count": 3,
   "id": "f8bc0fb7-7ed5-4eea-a203-a7d2158664f0",
   "metadata": {
    "colab": {
     "base_uri": "https://localhost:8080/"
    },
    "id": "7MNGyPiF285_",
    "outputId": "9d070600-7180-48bf-c8f2-af8cb4579605"
   },
   "outputs": [
    {
     "name": "stdout",
     "output_type": "stream",
     "text": [
      "3.8.1\n"
     ]
    }
   ],
   "source": [
    "import matplotlib; print(matplotlib.__version__)"
   ]
  },
  {
   "cell_type": "code",
   "execution_count": 4,
   "id": "de47f834-1b23-4667-85f2-648af5bad3fd",
   "metadata": {},
   "outputs": [],
   "source": [
    "import matplotlib.pyplot as plt"
   ]
  },
  {
   "cell_type": "code",
   "execution_count": 5,
   "id": "03ea2b6e-65d2-4f19-a8bf-244fc117656e",
   "metadata": {},
   "outputs": [],
   "source": [
    "import numpy as np"
   ]
  },
  {
   "cell_type": "code",
   "execution_count": 16,
   "id": "a6d1cb8e-bc56-4368-9c1d-efda0fe38dae",
   "metadata": {},
   "outputs": [],
   "source": [
    "import math"
   ]
  },
  {
   "cell_type": "code",
   "execution_count": 6,
   "id": "3907497d",
   "metadata": {
    "colab": {
     "base_uri": "https://localhost:8080/"
    },
    "id": "3907497d",
    "outputId": "9b881671-1b3d-4659-f4b9-928400261ba5"
   },
   "outputs": [
    {
     "data": {
      "text/plain": [
       "AnnData object with n_obs × n_vars = 8980 × 21880\n",
       "    obs: 0\n",
       "    var: 0"
      ]
     },
     "execution_count": 6,
     "metadata": {},
     "output_type": "execute_result"
    }
   ],
   "source": [
    "adata = sc.read_mtx('tmpoint1/run1/GSM6469858_Inj1_matrix.mtx').T\n",
    "\n",
    "obs_data = pd.read_csv('tmpoint1/run1/GSM6469858_Inj1_barcodes.tsv', delimiter='\\t', header=None)\n",
    "\n",
    "adata.obs = obs_data\n",
    "\n",
    "var_data = pd.read_csv('tmpoint1/run1/GSM6469858_Inj1_features.tsv', delimiter='\\t', header=None, usecols=[0])\n",
    "\n",
    "adata.var = var_data\n",
    "\n",
    "adata"
   ]
  },
  {
   "cell_type": "code",
   "execution_count": 7,
   "id": "70755b89-eece-4efc-ad8b-d9ecfbe81baf",
   "metadata": {},
   "outputs": [
    {
     "data": {
      "text/plain": [
       "AnnData object with n_obs × n_vars = 8980 × 21880\n",
       "    obs: 0\n",
       "    var: 0"
      ]
     },
     "execution_count": 7,
     "metadata": {},
     "output_type": "execute_result"
    }
   ],
   "source": [
    "adata2 = sc.read_mtx('tmpoint1/run1/GSM6469858_Inj1_matrix.mtx').T\n",
    "\n",
    "obs_data = pd.read_csv('tmpoint1/run1/GSM6469858_Inj1_barcodes.tsv', delimiter='\\t', header=None)\n",
    "\n",
    "adata2.obs = obs_data\n",
    "\n",
    "var_data = pd.read_csv('tmpoint1/run1/GSM6469858_Inj1_features.tsv', delimiter='\\t', header=None, usecols=[0])\n",
    "\n",
    "adata2.var = var_data\n",
    "\n",
    "adata2"
   ]
  },
  {
   "cell_type": "code",
   "execution_count": 10,
   "id": "47d94388",
   "metadata": {
    "colab": {
     "base_uri": "https://localhost:8080/"
    },
    "id": "47d94388",
    "outputId": "388cc919-ee9d-4496-ce02-caa836c588c2"
   },
   "outputs": [
    {
     "data": {
      "text/html": [
       "<div>\n",
       "<style scoped>\n",
       "    .dataframe tbody tr th:only-of-type {\n",
       "        vertical-align: middle;\n",
       "    }\n",
       "\n",
       "    .dataframe tbody tr th {\n",
       "        vertical-align: top;\n",
       "    }\n",
       "\n",
       "    .dataframe thead th {\n",
       "        text-align: right;\n",
       "    }\n",
       "</style>\n",
       "<table border=\"1\" class=\"dataframe\">\n",
       "  <thead>\n",
       "    <tr style=\"text-align: right;\">\n",
       "      <th></th>\n",
       "      <th>0</th>\n",
       "    </tr>\n",
       "  </thead>\n",
       "  <tbody>\n",
       "    <tr>\n",
       "      <th>0</th>\n",
       "      <td>ENSBTAG00000006648</td>\n",
       "    </tr>\n",
       "    <tr>\n",
       "      <th>1</th>\n",
       "      <td>ENSBTAG00000054829</td>\n",
       "    </tr>\n",
       "    <tr>\n",
       "      <th>2</th>\n",
       "      <td>ENSBTAG00000001753</td>\n",
       "    </tr>\n",
       "    <tr>\n",
       "      <th>3</th>\n",
       "      <td>ENSBTAG00000020035</td>\n",
       "    </tr>\n",
       "    <tr>\n",
       "      <th>4</th>\n",
       "      <td>ENSBTAG00000005540</td>\n",
       "    </tr>\n",
       "    <tr>\n",
       "      <th>...</th>\n",
       "      <td>...</td>\n",
       "    </tr>\n",
       "    <tr>\n",
       "      <th>21875</th>\n",
       "      <td>ENSBTAG00000053966</td>\n",
       "    </tr>\n",
       "    <tr>\n",
       "      <th>21876</th>\n",
       "      <td>ENSBTAG00000053117</td>\n",
       "    </tr>\n",
       "    <tr>\n",
       "      <th>21877</th>\n",
       "      <td>ENSBTAG00000049431</td>\n",
       "    </tr>\n",
       "    <tr>\n",
       "      <th>21878</th>\n",
       "      <td>ENSBTAG00000051489</td>\n",
       "    </tr>\n",
       "    <tr>\n",
       "      <th>21879</th>\n",
       "      <td>ENSBTAG00000054374</td>\n",
       "    </tr>\n",
       "  </tbody>\n",
       "</table>\n",
       "<p>21880 rows × 1 columns</p>\n",
       "</div>"
      ],
      "text/plain": [
       "                        0\n",
       "0      ENSBTAG00000006648\n",
       "1      ENSBTAG00000054829\n",
       "2      ENSBTAG00000001753\n",
       "3      ENSBTAG00000020035\n",
       "4      ENSBTAG00000005540\n",
       "...                   ...\n",
       "21875  ENSBTAG00000053966\n",
       "21876  ENSBTAG00000053117\n",
       "21877  ENSBTAG00000049431\n",
       "21878  ENSBTAG00000051489\n",
       "21879  ENSBTAG00000054374\n",
       "\n",
       "[21880 rows x 1 columns]"
      ]
     },
     "execution_count": 10,
     "metadata": {},
     "output_type": "execute_result"
    }
   ],
   "source": [
    "adata.var"
   ]
  },
  {
   "cell_type": "markdown",
   "id": "72532d63",
   "metadata": {
    "id": "72532d63"
   },
   "source": [
    "# Doublet removal - optional but preferred"
   ]
  },
  {
   "cell_type": "code",
   "execution_count": 8,
   "id": "83eba3b9",
   "metadata": {
    "id": "83eba3b9"
   },
   "outputs": [
    {
     "name": "stderr",
     "output_type": "stream",
     "text": [
      "/storage/brno12-cerit/home/jiribruthans/miniconda3/envs/scvi-env/lib/python3.11/site-packages/anndata/_core/anndata.py:183: ImplicitModificationWarning: Transforming to str index.\n",
      "  warnings.warn(\"Transforming to str index.\", ImplicitModificationWarning)\n",
      "/storage/brno12-cerit/home/jiribruthans/miniconda3/envs/scvi-env/lib/python3.11/site-packages/anndata/_core/anndata.py:183: ImplicitModificationWarning: Transforming to str index.\n",
      "  warnings.warn(\"Transforming to str index.\", ImplicitModificationWarning)\n"
     ]
    }
   ],
   "source": [
    "sc.pp.filter_genes(adata, min_cells = 10)"
   ]
  },
  {
   "cell_type": "code",
   "execution_count": 9,
   "id": "cc80a11c-c61c-4a5d-a4c9-b46904d09402",
   "metadata": {},
   "outputs": [
    {
     "name": "stderr",
     "output_type": "stream",
     "text": [
      "/storage/brno12-cerit/home/jiribruthans/miniconda3/envs/scvi-env/lib/python3.11/site-packages/anndata/_core/anndata.py:183: ImplicitModificationWarning: Transforming to str index.\n",
      "  warnings.warn(\"Transforming to str index.\", ImplicitModificationWarning)\n",
      "/storage/brno12-cerit/home/jiribruthans/miniconda3/envs/scvi-env/lib/python3.11/site-packages/anndata/_core/anndata.py:183: ImplicitModificationWarning: Transforming to str index.\n",
      "  warnings.warn(\"Transforming to str index.\", ImplicitModificationWarning)\n"
     ]
    }
   ],
   "source": [
    "sc.pp.filter_genes(adata2, min_cells = 10)"
   ]
  },
  {
   "cell_type": "code",
   "execution_count": 10,
   "id": "3daa342c-5b27-4bad-bd1c-18d554bc6574",
   "metadata": {},
   "outputs": [],
   "source": [
    "sc.pp.highly_variable_genes(adata, n_top_genes = 2000, subset = True, flavor = 'seurat_v3')"
   ]
  },
  {
   "cell_type": "code",
   "execution_count": 11,
   "id": "ef790e61-ffd5-4d05-b081-3dd290a78b30",
   "metadata": {},
   "outputs": [],
   "source": [
    "sc.pp.highly_variable_genes(adata2, n_top_genes = 2000, subset = True, flavor = 'seurat_v3')"
   ]
  },
  {
   "cell_type": "code",
   "execution_count": 15,
   "id": "6f3ba90d-41bb-44b6-a9cb-d3c95f8acdf1",
   "metadata": {},
   "outputs": [
    {
     "data": {
      "text/plain": [
       "AnnData object with n_obs × n_vars = 8980 × 2000\n",
       "    obs: 0\n",
       "    var: 0, 'n_cells', 'highly_variable', 'highly_variable_rank', 'means', 'variances', 'variances_norm'\n",
       "    uns: 'hvg'"
      ]
     },
     "execution_count": 15,
     "metadata": {},
     "output_type": "execute_result"
    }
   ],
   "source": [
    "adata"
   ]
  },
  {
   "cell_type": "code",
   "execution_count": 16,
   "id": "c4cb4742",
   "metadata": {
    "id": "c4cb4742"
   },
   "outputs": [
    {
     "data": {
      "text/plain": [
       "matrix([[  244.],\n",
       "        [11675.],\n",
       "        [ 4832.],\n",
       "        ...,\n",
       "        [ 3265.],\n",
       "        [  314.],\n",
       "        [  343.]], dtype=float32)"
      ]
     },
     "execution_count": 16,
     "metadata": {},
     "output_type": "execute_result"
    }
   ],
   "source": [
    "adata.X.sum(axis = 1)"
   ]
  },
  {
   "cell_type": "code",
   "execution_count": 60,
   "id": "1fb2a060-20fe-4d56-80ab-198dcfdc20aa",
   "metadata": {},
   "outputs": [
    {
     "data": {
      "text/plain": [
       "<8980x2000 sparse matrix of type '<class 'numpy.float32'>'\n",
       "\twith 1632806 stored elements in Compressed Sparse Column format>"
      ]
     },
     "execution_count": 60,
     "metadata": {},
     "output_type": "execute_result"
    }
   ],
   "source": [
    "adata.X"
   ]
  },
  {
   "cell_type": "code",
   "execution_count": 12,
   "id": "c7c0d806",
   "metadata": {
    "id": "c7c0d806"
   },
   "outputs": [],
   "source": [
    "sc.pp.normalize_total(adata, target_sum=1e4) #normalize every cell to 10,000 UMI"
   ]
  },
  {
   "cell_type": "code",
   "execution_count": 13,
   "id": "c545a96c-aa44-4a5f-a0f7-c65f2fde1d13",
   "metadata": {},
   "outputs": [],
   "source": [
    "sc.pp.normalize_total(adata2, target_sum=1e4) #normalize every cell to 10,000 UMI"
   ]
  },
  {
   "cell_type": "markdown",
   "id": "bfafcb51-64bd-4580-88a0-06ec3d15dca5",
   "metadata": {
    "id": "503219fb"
   },
   "source": [
    "adata.X.sum(axis = 1)"
   ]
  },
  {
   "cell_type": "code",
   "execution_count": 19,
   "id": "5752f0da",
   "metadata": {
    "id": "5752f0da"
   },
   "outputs": [],
   "source": [
    "sc.pp.log1p(adata2) #change to log counts"
   ]
  },
  {
   "cell_type": "code",
   "execution_count": 20,
   "id": "c714f83c-b08e-42cb-8a91-ea4418cbfd86",
   "metadata": {},
   "outputs": [
    {
     "data": {
      "text/plain": [
       "matrix([[20307.455  ,  1226.8956 ,  9409.444  , ...,  1933.1127 ,\n",
       "          1445.354  ,   428.51962]], dtype=float32)"
      ]
     },
     "execution_count": 20,
     "metadata": {},
     "output_type": "execute_result"
    }
   ],
   "source": [
    "adata.X.sum(axis=0)\n"
   ]
  },
  {
   "cell_type": "code",
   "execution_count": 21,
   "id": "9de1eb76-98b3-4e23-a00e-97c46635a67f",
   "metadata": {},
   "outputs": [
    {
     "data": {
      "text/plain": [
       "matrix([[2316.122   ,  227.51819 , 1652.93    , ...,   89.90266 ,\n",
       "           96.871735,   49.93728 ]], dtype=float32)"
      ]
     },
     "execution_count": 21,
     "metadata": {},
     "output_type": "execute_result"
    }
   ],
   "source": [
    "adata2.X.sum(axis = 0)"
   ]
  },
  {
   "cell_type": "code",
   "execution_count": 75,
   "id": "b0f5dfc1-2da3-461f-b4f9-ae13eb20e430",
   "metadata": {},
   "outputs": [
    {
     "data": {
      "text/plain": [
       "array([3., 2.])"
      ]
     },
     "execution_count": 75,
     "metadata": {},
     "output_type": "execute_result"
    }
   ],
   "source": [
    "h = np.array([])\n",
    "h = np.append(h, 3)\n",
    "h = np.append(h, 2)\n",
    "h"
   ]
  },
  {
   "cell_type": "code",
   "execution_count": 97,
   "id": "68d4f6cd-094d-47b0-b91b-7ee72406152a",
   "metadata": {},
   "outputs": [
    {
     "data": {
      "text/plain": [
       "8980"
      ]
     },
     "execution_count": 97,
     "metadata": {},
     "output_type": "execute_result"
    }
   ],
   "source": [
    "len(adata.X.toarray()"
   ]
  },
  {
   "cell_type": "code",
   "execution_count": 104,
   "id": "a30bebfc-a234-4057-ae64-d91fd6c12ed7",
   "metadata": {},
   "outputs": [
    {
     "data": {
      "text/plain": [
       "array([20307.455  ,  1226.8956 ,  9409.444  , ...,  1933.1127 ,\n",
       "        1445.354  ,   428.51962], dtype=float32)"
      ]
     },
     "execution_count": 104,
     "metadata": {},
     "output_type": "execute_result"
    }
   ],
   "source": [
    "np.array(adata.X.sum(axis=0)).ravel()"
   ]
  },
  {
   "cell_type": "code",
   "execution_count": 14,
   "id": "42a48306-7966-42c9-b15f-24661e8de81e",
   "metadata": {},
   "outputs": [
    {
     "data": {
      "text/plain": [
       "array([0.05672791, 0.00141594, 0.02819189, ..., 0.00798365, 0.00376208,\n",
       "       0.00120412])"
      ]
     },
     "execution_count": 14,
     "metadata": {},
     "output_type": "execute_result"
    }
   ],
   "source": [
    "ar = np.array(adata.X.sum(axis=0)).ravel()\n",
    "count = 0 \n",
    "arr_new = np.array([])\n",
    "for element in ar:\n",
    "    arr_new = np.append(arr_new, ((element/8980)/np.std(adata.X.toarray()[count])))\n",
    "    count = count + 1\n",
    "arr_new"
   ]
  },
  {
   "cell_type": "code",
   "execution_count": 18,
   "id": "52801758-803d-4d9f-8a4c-7e0fb7d1a320",
   "metadata": {},
   "outputs": [
    {
     "data": {
      "text/plain": [
       "array([0.5134053 , 0.05561734, 0.31129227, ..., 0.0846723 , 0.06481447,\n",
       "       0.02024496])"
      ]
     },
     "execution_count": 18,
     "metadata": {},
     "output_type": "execute_result"
    }
   ],
   "source": [
    "ar2 = np.array(adata2.X.sum(axis=0)).ravel()\n",
    "count = 0 \n",
    "arr2_new = np.array([])\n",
    "for element in ar2:\n",
    "    arr2_new = np.append(arr2_new, (math.log10((element/8980)+1)))\n",
    "    count = count + 1\n",
    "arr2_new"
   ]
  },
  {
   "cell_type": "code",
   "execution_count": 19,
   "id": "3b63756e-3e36-45c2-8ee4-cc8739f7f9bd",
   "metadata": {},
   "outputs": [
    {
     "data": {
      "image/png": "[encoded data removed]",
      "text/plain": [
       "<Figure size 1000x600 with 1 Axes>"
      ]
     },
     "metadata": {},
     "output_type": "display_data"
    }
   ],
   "source": [
    "\n",
    "# Ensure conversion to 1D arrays\n",
    "y_values = arr_new\n",
    "x_values = arr2_new  # Converts and flattens y_values to 1D\n",
    "\n",
    "# Plot\n",
    "plt.figure(figsize=(10, 6))\n",
    "plt.scatter(x_values, y_values, alpha=0.5)\n",
    "plt.title('Sum of Elements Comparison')\n",
    "plt.xlabel('log normalized')\n",
    "plt.ylabel('signal to noise ratio')\n",
    "plt.grid(True)\n",
    "plt.show()\n"
   ]
  },
  {
   "cell_type": "code",
   "execution_count": 20,
   "id": "fb377a99-010f-4e3d-a07d-4c22098cdfb5",
   "metadata": {},
   "outputs": [
    {
     "data": {
      "image/png": "[encoded data removed]",
      "text/plain": [
       "<Figure size 1000x600 with 1 Axes>"
      ]
     },
     "metadata": {},
     "output_type": "display_data"
    }
   ],
   "source": [
    "# Ensure conversion to 1D arrays\n",
    "y_values = arr_new\n",
    "x_values = np.array(adata.X.sum(axis=0)).ravel()  # Converts and flattens y_values to 1D\n",
    "\n",
    "# Plot\n",
    "plt.figure(figsize=(10, 6))\n",
    "plt.scatter(x_values, y_values, alpha=0.5)\n",
    "plt.title('Sum of Elements Comparison')\n",
    "plt.xlabel('log normalized')\n",
    "plt.ylabel('signal to noise ratio')\n",
    "plt.grid(True)\n",
    "plt.show()\n"
   ]
  },
  {
   "cell_type": "code",
   "execution_count": 22,
   "id": "3cfadbe5-5528-4349-b71e-64cc8b3a5471",
   "metadata": {},
   "outputs": [
    {
     "data": {
      "text/plain": [
       "array([3.3097355 , 1.43575499, 2.45465334, ..., 1.5663628 , 1.47866402,\n",
       "       1.24202918])"
      ]
     },
     "execution_count": 22,
     "metadata": {},
     "output_type": "execute_result"
    }
   ],
   "source": [
    "ar3 = np.array(adata2.X.sum(axis=0)).ravel()\n",
    "count = 0 \n",
    "arr3_new = np.array([])\n",
    "for element in ar2:\n",
    "    arr3_new = np.append(arr3_new, (math.sqrt((element/8980)) + math.sqrt((element/8980 + 1))))\n",
    "    count = count + 1\n",
    "arr3_new"
   ]
  },
  {
   "cell_type": "code",
   "execution_count": 23,
   "id": "b6b1fe96-1514-4035-b27f-4973acda8e3b",
   "metadata": {},
   "outputs": [
    {
     "data": {
      "image/png": "[encoded data removed]",
      "text/plain": [
       "<Figure size 1000x600 with 1 Axes>"
      ]
     },
     "metadata": {},
     "output_type": "display_data"
    }
   ],
   "source": [
    "# Ensure conversion to 1D arrays\n",
    "y_values = arr_new\n",
    "x_values = arr3_new  # Converts and flattens y_values to 1D\n",
    "\n",
    "# Plot\n",
    "plt.figure(figsize=(10, 6))\n",
    "plt.scatter(x_values, y_values, alpha=0.5)\n",
    "plt.title('Sum of Elements Comparison')\n",
    "plt.xlabel('log normalized')\n",
    "plt.ylabel('signal to noise ratio')\n",
    "plt.grid(True)\n",
    "plt.show()"
   ]
  },
  {
   "cell_type": "code",
   "execution_count": 27,
   "id": "8e5aba37-9a08-4cee-ad65-2b19ffd29a72",
   "metadata": {},
   "outputs": [
    {
     "data": {
      "text/html": [
       "<div>\n",
       "<style scoped>\n",
       "    .dataframe tbody tr th:only-of-type {\n",
       "        vertical-align: middle;\n",
       "    }\n",
       "\n",
       "    .dataframe tbody tr th {\n",
       "        vertical-align: top;\n",
       "    }\n",
       "\n",
       "    .dataframe thead th {\n",
       "        text-align: right;\n",
       "    }\n",
       "</style>\n",
       "<table border=\"1\" class=\"dataframe\">\n",
       "  <thead>\n",
       "    <tr style=\"text-align: right;\">\n",
       "      <th></th>\n",
       "      <th>0</th>\n",
       "      <th>n_cells</th>\n",
       "      <th>highly_variable</th>\n",
       "      <th>highly_variable_rank</th>\n",
       "      <th>means</th>\n",
       "      <th>variances</th>\n",
       "      <th>variances_norm</th>\n",
       "    </tr>\n",
       "  </thead>\n",
       "  <tbody>\n",
       "    <tr>\n",
       "      <th>3</th>\n",
       "      <td>ENSBTAG00000020035</td>\n",
       "      <td>841</td>\n",
       "      <td>True</td>\n",
       "      <td>575.0</td>\n",
       "      <td>0.159243</td>\n",
       "      <td>0.646429</td>\n",
       "      <td>2.679297</td>\n",
       "    </tr>\n",
       "    <tr>\n",
       "      <th>35</th>\n",
       "      <td>ENSBTAG00000016619</td>\n",
       "      <td>96</td>\n",
       "      <td>True</td>\n",
       "      <td>1181.0</td>\n",
       "      <td>0.017038</td>\n",
       "      <td>0.036351</td>\n",
       "      <td>1.657768</td>\n",
       "    </tr>\n",
       "    <tr>\n",
       "      <th>40</th>\n",
       "      <td>ENSBTAG00000048631</td>\n",
       "      <td>706</td>\n",
       "      <td>True</td>\n",
       "      <td>1195.0</td>\n",
       "      <td>0.133853</td>\n",
       "      <td>0.323545</td>\n",
       "      <td>1.645803</td>\n",
       "    </tr>\n",
       "    <tr>\n",
       "      <th>67</th>\n",
       "      <td>ENSBTAG00000007444</td>\n",
       "      <td>152</td>\n",
       "      <td>True</td>\n",
       "      <td>448.0</td>\n",
       "      <td>0.033630</td>\n",
       "      <td>0.138305</td>\n",
       "      <td>3.179176</td>\n",
       "    </tr>\n",
       "    <tr>\n",
       "      <th>76</th>\n",
       "      <td>ENSBTAG00000000648</td>\n",
       "      <td>836</td>\n",
       "      <td>True</td>\n",
       "      <td>589.0</td>\n",
       "      <td>0.190423</td>\n",
       "      <td>0.787657</td>\n",
       "      <td>2.621246</td>\n",
       "    </tr>\n",
       "    <tr>\n",
       "      <th>...</th>\n",
       "      <td>...</td>\n",
       "      <td>...</td>\n",
       "      <td>...</td>\n",
       "      <td>...</td>\n",
       "      <td>...</td>\n",
       "      <td>...</td>\n",
       "      <td>...</td>\n",
       "    </tr>\n",
       "    <tr>\n",
       "      <th>21737</th>\n",
       "      <td>ENSBTAG00000049932</td>\n",
       "      <td>151</td>\n",
       "      <td>True</td>\n",
       "      <td>736.0</td>\n",
       "      <td>0.030178</td>\n",
       "      <td>0.088297</td>\n",
       "      <td>2.247253</td>\n",
       "    </tr>\n",
       "    <tr>\n",
       "      <th>21778</th>\n",
       "      <td>ENSBTAG00000023970</td>\n",
       "      <td>163</td>\n",
       "      <td>True</td>\n",
       "      <td>1482.0</td>\n",
       "      <td>0.022049</td>\n",
       "      <td>0.041835</td>\n",
       "      <td>1.446173</td>\n",
       "    </tr>\n",
       "    <tr>\n",
       "      <th>21850</th>\n",
       "      <td>ENSBTAG00000039037</td>\n",
       "      <td>24</td>\n",
       "      <td>True</td>\n",
       "      <td>251.0</td>\n",
       "      <td>0.011247</td>\n",
       "      <td>0.126057</td>\n",
       "      <td>4.617549</td>\n",
       "    </tr>\n",
       "    <tr>\n",
       "      <th>21856</th>\n",
       "      <td>ENSBTAG00000052012</td>\n",
       "      <td>27</td>\n",
       "      <td>True</td>\n",
       "      <td>281.0</td>\n",
       "      <td>0.009131</td>\n",
       "      <td>0.050925</td>\n",
       "      <td>4.293489</td>\n",
       "    </tr>\n",
       "    <tr>\n",
       "      <th>21874</th>\n",
       "      <td>ENSBTAG00000049569</td>\n",
       "      <td>16</td>\n",
       "      <td>True</td>\n",
       "      <td>748.0</td>\n",
       "      <td>0.002895</td>\n",
       "      <td>0.007342</td>\n",
       "      <td>2.209889</td>\n",
       "    </tr>\n",
       "  </tbody>\n",
       "</table>\n",
       "<p>2000 rows × 7 columns</p>\n",
       "</div>"
      ],
      "text/plain": [
       "                        0  n_cells  highly_variable  highly_variable_rank  \\\n",
       "3      ENSBTAG00000020035      841             True                 575.0   \n",
       "35     ENSBTAG00000016619       96             True                1181.0   \n",
       "40     ENSBTAG00000048631      706             True                1195.0   \n",
       "67     ENSBTAG00000007444      152             True                 448.0   \n",
       "76     ENSBTAG00000000648      836             True                 589.0   \n",
       "...                   ...      ...              ...                   ...   \n",
       "21737  ENSBTAG00000049932      151             True                 736.0   \n",
       "21778  ENSBTAG00000023970      163             True                1482.0   \n",
       "21850  ENSBTAG00000039037       24             True                 251.0   \n",
       "21856  ENSBTAG00000052012       27             True                 281.0   \n",
       "21874  ENSBTAG00000049569       16             True                 748.0   \n",
       "\n",
       "          means  variances  variances_norm  \n",
       "3      0.159243   0.646429        2.679297  \n",
       "35     0.017038   0.036351        1.657768  \n",
       "40     0.133853   0.323545        1.645803  \n",
       "67     0.033630   0.138305        3.179176  \n",
       "76     0.190423   0.787657        2.621246  \n",
       "...         ...        ...             ...  \n",
       "21737  0.030178   0.088297        2.247253  \n",
       "21778  0.022049   0.041835        1.446173  \n",
       "21850  0.011247   0.126057        4.617549  \n",
       "21856  0.009131   0.050925        4.293489  \n",
       "21874  0.002895   0.007342        2.209889  \n",
       "\n",
       "[2000 rows x 7 columns]"
      ]
     },
     "execution_count": 27,
     "metadata": {},
     "output_type": "execute_result"
    }
   ],
   "source": [
    "adata.var"
   ]
  },
  {
   "cell_type": "code",
   "execution_count": 37,
   "id": "d9b69865",
   "metadata": {
    "id": "d9b69865"
   },
   "outputs": [],
   "source": [
    "adata.raw = adata"
   ]
  },
  {
   "cell_type": "markdown",
   "id": "b59acb04",
   "metadata": {
    "id": "b59acb04",
    "jp-MarkdownHeadingCollapsed": true
   },
   "source": [
    "# Clustering"
   ]
  },
  {
   "cell_type": "code",
   "execution_count": 38,
   "id": "f80217c6",
   "metadata": {
    "id": "f80217c6"
   },
   "outputs": [],
   "source": [
    "sc.pp.highly_variable_genes(adata, n_top_genes = 2000)"
   ]
  },
  {
   "cell_type": "code",
   "execution_count": 39,
   "id": "e2e5f512",
   "metadata": {
    "id": "e2e5f512"
   },
   "outputs": [
    {
     "data": {
      "text/html": [
       "<div>\n",
       "<style scoped>\n",
       "    .dataframe tbody tr th:only-of-type {\n",
       "        vertical-align: middle;\n",
       "    }\n",
       "\n",
       "    .dataframe tbody tr th {\n",
       "        vertical-align: top;\n",
       "    }\n",
       "\n",
       "    .dataframe thead th {\n",
       "        text-align: right;\n",
       "    }\n",
       "</style>\n",
       "<table border=\"1\" class=\"dataframe\">\n",
       "  <thead>\n",
       "    <tr style=\"text-align: right;\">\n",
       "      <th></th>\n",
       "      <th>0</th>\n",
       "      <th>n_cells</th>\n",
       "      <th>highly_variable</th>\n",
       "      <th>highly_variable_rank</th>\n",
       "      <th>means</th>\n",
       "      <th>variances</th>\n",
       "      <th>variances_norm</th>\n",
       "      <th>dispersions</th>\n",
       "      <th>dispersions_norm</th>\n",
       "    </tr>\n",
       "  </thead>\n",
       "  <tbody>\n",
       "    <tr>\n",
       "      <th>3</th>\n",
       "      <td>ENSBTAG00000020035</td>\n",
       "      <td>841</td>\n",
       "      <td>True</td>\n",
       "      <td>575.0</td>\n",
       "      <td>1.181212</td>\n",
       "      <td>0.646429</td>\n",
       "      <td>2.679297</td>\n",
       "      <td>4.181664</td>\n",
       "      <td>0.324002</td>\n",
       "    </tr>\n",
       "    <tr>\n",
       "      <th>35</th>\n",
       "      <td>ENSBTAG00000016619</td>\n",
       "      <td>96</td>\n",
       "      <td>True</td>\n",
       "      <td>1181.0</td>\n",
       "      <td>0.126521</td>\n",
       "      <td>0.036351</td>\n",
       "      <td>1.657768</td>\n",
       "      <td>3.154229</td>\n",
       "      <td>-0.543867</td>\n",
       "    </tr>\n",
       "    <tr>\n",
       "      <th>40</th>\n",
       "      <td>ENSBTAG00000048631</td>\n",
       "      <td>706</td>\n",
       "      <td>True</td>\n",
       "      <td>1195.0</td>\n",
       "      <td>0.719802</td>\n",
       "      <td>0.323545</td>\n",
       "      <td>1.645803</td>\n",
       "      <td>3.558661</td>\n",
       "      <td>-0.519175</td>\n",
       "    </tr>\n",
       "    <tr>\n",
       "      <th>67</th>\n",
       "      <td>ENSBTAG00000007444</td>\n",
       "      <td>152</td>\n",
       "      <td>True</td>\n",
       "      <td>448.0</td>\n",
       "      <td>0.329516</td>\n",
       "      <td>0.138305</td>\n",
       "      <td>3.179176</td>\n",
       "      <td>3.723616</td>\n",
       "      <td>-0.059275</td>\n",
       "    </tr>\n",
       "    <tr>\n",
       "      <th>76</th>\n",
       "      <td>ENSBTAG00000000648</td>\n",
       "      <td>836</td>\n",
       "      <td>True</td>\n",
       "      <td>589.0</td>\n",
       "      <td>0.930552</td>\n",
       "      <td>0.787657</td>\n",
       "      <td>2.621246</td>\n",
       "      <td>3.575920</td>\n",
       "      <td>-0.490193</td>\n",
       "    </tr>\n",
       "    <tr>\n",
       "      <th>...</th>\n",
       "      <td>...</td>\n",
       "      <td>...</td>\n",
       "      <td>...</td>\n",
       "      <td>...</td>\n",
       "      <td>...</td>\n",
       "      <td>...</td>\n",
       "      <td>...</td>\n",
       "      <td>...</td>\n",
       "      <td>...</td>\n",
       "    </tr>\n",
       "    <tr>\n",
       "      <th>21737</th>\n",
       "      <td>ENSBTAG00000049932</td>\n",
       "      <td>151</td>\n",
       "      <td>True</td>\n",
       "      <td>736.0</td>\n",
       "      <td>0.148254</td>\n",
       "      <td>0.088297</td>\n",
       "      <td>2.247253</td>\n",
       "      <td>3.131994</td>\n",
       "      <td>-0.578773</td>\n",
       "    </tr>\n",
       "    <tr>\n",
       "      <th>21778</th>\n",
       "      <td>ENSBTAG00000023970</td>\n",
       "      <td>163</td>\n",
       "      <td>True</td>\n",
       "      <td>1482.0</td>\n",
       "      <td>0.252669</td>\n",
       "      <td>0.041835</td>\n",
       "      <td>1.446173</td>\n",
       "      <td>3.365989</td>\n",
       "      <td>-0.211438</td>\n",
       "    </tr>\n",
       "    <tr>\n",
       "      <th>21850</th>\n",
       "      <td>ENSBTAG00000039037</td>\n",
       "      <td>24</td>\n",
       "      <td>True</td>\n",
       "      <td>251.0</td>\n",
       "      <td>0.196737</td>\n",
       "      <td>0.126057</td>\n",
       "      <td>4.617549</td>\n",
       "      <td>5.312123</td>\n",
       "      <td>2.843681</td>\n",
       "    </tr>\n",
       "    <tr>\n",
       "      <th>21856</th>\n",
       "      <td>ENSBTAG00000052012</td>\n",
       "      <td>27</td>\n",
       "      <td>True</td>\n",
       "      <td>281.0</td>\n",
       "      <td>0.150628</td>\n",
       "      <td>0.050925</td>\n",
       "      <td>4.293489</td>\n",
       "      <td>4.592436</td>\n",
       "      <td>1.713888</td>\n",
       "    </tr>\n",
       "    <tr>\n",
       "      <th>21874</th>\n",
       "      <td>ENSBTAG00000049569</td>\n",
       "      <td>16</td>\n",
       "      <td>True</td>\n",
       "      <td>748.0</td>\n",
       "      <td>0.047072</td>\n",
       "      <td>0.007342</td>\n",
       "      <td>2.209889</td>\n",
       "      <td>3.647827</td>\n",
       "      <td>0.231002</td>\n",
       "    </tr>\n",
       "  </tbody>\n",
       "</table>\n",
       "<p>2000 rows × 9 columns</p>\n",
       "</div>"
      ],
      "text/plain": [
       "                        0  n_cells  highly_variable  highly_variable_rank  \\\n",
       "3      ENSBTAG00000020035      841             True                 575.0   \n",
       "35     ENSBTAG00000016619       96             True                1181.0   \n",
       "40     ENSBTAG00000048631      706             True                1195.0   \n",
       "67     ENSBTAG00000007444      152             True                 448.0   \n",
       "76     ENSBTAG00000000648      836             True                 589.0   \n",
       "...                   ...      ...              ...                   ...   \n",
       "21737  ENSBTAG00000049932      151             True                 736.0   \n",
       "21778  ENSBTAG00000023970      163             True                1482.0   \n",
       "21850  ENSBTAG00000039037       24             True                 251.0   \n",
       "21856  ENSBTAG00000052012       27             True                 281.0   \n",
       "21874  ENSBTAG00000049569       16             True                 748.0   \n",
       "\n",
       "          means  variances  variances_norm  dispersions  dispersions_norm  \n",
       "3      1.181212   0.646429        2.679297     4.181664          0.324002  \n",
       "35     0.126521   0.036351        1.657768     3.154229         -0.543867  \n",
       "40     0.719802   0.323545        1.645803     3.558661         -0.519175  \n",
       "67     0.329516   0.138305        3.179176     3.723616         -0.059275  \n",
       "76     0.930552   0.787657        2.621246     3.575920         -0.490193  \n",
       "...         ...        ...             ...          ...               ...  \n",
       "21737  0.148254   0.088297        2.247253     3.131994         -0.578773  \n",
       "21778  0.252669   0.041835        1.446173     3.365989         -0.211438  \n",
       "21850  0.196737   0.126057        4.617549     5.312123          2.843681  \n",
       "21856  0.150628   0.050925        4.293489     4.592436          1.713888  \n",
       "21874  0.047072   0.007342        2.209889     3.647827          0.231002  \n",
       "\n",
       "[2000 rows x 9 columns]"
      ]
     },
     "execution_count": 39,
     "metadata": {},
     "output_type": "execute_result"
    }
   ],
   "source": [
    "adata.var"
   ]
  },
  {
   "cell_type": "code",
   "execution_count": 40,
   "id": "c9a4b0c4",
   "metadata": {
    "id": "c9a4b0c4"
   },
   "outputs": [
    {
     "data": {
      "image/png": "[encoded data removed]",
      "text/plain": [
       "<Figure size 1280x480 with 2 Axes>"
      ]
     },
     "metadata": {},
     "output_type": "display_data"
    }
   ],
   "source": [
    "sc.pl.highly_variable_genes(adata)"
   ]
  },
  {
   "cell_type": "code",
   "execution_count": 41,
   "id": "5d123cb9",
   "metadata": {
    "id": "5d123cb9"
   },
   "outputs": [],
   "source": [
    "adata = adata[:, adata.var.highly_variable]"
   ]
  },
  {
   "cell_type": "code",
   "execution_count": 42,
   "id": "88242fc3",
   "metadata": {
    "id": "88242fc3"
   },
   "outputs": [
    {
     "ename": "KeyError",
     "evalue": "\"None of [Index(['total_counts', 'pct_counts_mt', 'pct_counts_ribo'], dtype='object')] are in the [columns]\"",
     "output_type": "error",
     "traceback": [
      "\u001b[0;31m---------------------------------------------------------------------------\u001b[0m",
      "\u001b[0;31mKeyError\u001b[0m                                  Traceback (most recent call last)",
      "Cell \u001b[0;32mIn[42], line 1\u001b[0m\n\u001b[0;32m----> 1\u001b[0m \u001b[43msc\u001b[49m\u001b[38;5;241;43m.\u001b[39;49m\u001b[43mpp\u001b[49m\u001b[38;5;241;43m.\u001b[39;49m\u001b[43mregress_out\u001b[49m\u001b[43m(\u001b[49m\u001b[43madata\u001b[49m\u001b[43m,\u001b[49m\u001b[43m \u001b[49m\u001b[43m[\u001b[49m\u001b[38;5;124;43m'\u001b[39;49m\u001b[38;5;124;43mtotal_counts\u001b[39;49m\u001b[38;5;124;43m'\u001b[39;49m\u001b[43m,\u001b[49m\u001b[43m \u001b[49m\u001b[38;5;124;43m'\u001b[39;49m\u001b[38;5;124;43mpct_counts_mt\u001b[39;49m\u001b[38;5;124;43m'\u001b[39;49m\u001b[43m,\u001b[49m\u001b[43m \u001b[49m\u001b[38;5;124;43m'\u001b[39;49m\u001b[38;5;124;43mpct_counts_ribo\u001b[39;49m\u001b[38;5;124;43m'\u001b[39;49m\u001b[43m]\u001b[49m\u001b[43m)\u001b[49m\n",
      "File \u001b[0;32m~/.local/lib/python3.9/site-packages/scanpy/preprocessing/_simple.py:639\u001b[0m, in \u001b[0;36mregress_out\u001b[0;34m(adata, keys, n_jobs, copy)\u001b[0m\n\u001b[1;32m    635\u001b[0m \u001b[38;5;66;03m# regress on one or several ordinal variables\u001b[39;00m\n\u001b[1;32m    636\u001b[0m \u001b[38;5;28;01melse\u001b[39;00m:\n\u001b[1;32m    637\u001b[0m     \u001b[38;5;66;03m# create data frame with selected keys (if given)\u001b[39;00m\n\u001b[1;32m    638\u001b[0m     \u001b[38;5;28;01mif\u001b[39;00m keys:\n\u001b[0;32m--> 639\u001b[0m         regressors \u001b[38;5;241m=\u001b[39m \u001b[43madata\u001b[49m\u001b[38;5;241;43m.\u001b[39;49m\u001b[43mobs\u001b[49m\u001b[43m[\u001b[49m\u001b[43mkeys\u001b[49m\u001b[43m]\u001b[49m\n\u001b[1;32m    640\u001b[0m     \u001b[38;5;28;01melse\u001b[39;00m:\n\u001b[1;32m    641\u001b[0m         regressors \u001b[38;5;241m=\u001b[39m adata\u001b[38;5;241m.\u001b[39mobs\u001b[38;5;241m.\u001b[39mcopy()\n",
      "File \u001b[0;32m~/.local/lib/python3.9/site-packages/pandas/core/frame.py:3813\u001b[0m, in \u001b[0;36mDataFrame.__getitem__\u001b[0;34m(self, key)\u001b[0m\n\u001b[1;32m   3811\u001b[0m     \u001b[38;5;28;01mif\u001b[39;00m is_iterator(key):\n\u001b[1;32m   3812\u001b[0m         key \u001b[38;5;241m=\u001b[39m \u001b[38;5;28mlist\u001b[39m(key)\n\u001b[0;32m-> 3813\u001b[0m     indexer \u001b[38;5;241m=\u001b[39m \u001b[38;5;28;43mself\u001b[39;49m\u001b[38;5;241;43m.\u001b[39;49m\u001b[43mcolumns\u001b[49m\u001b[38;5;241;43m.\u001b[39;49m\u001b[43m_get_indexer_strict\u001b[49m\u001b[43m(\u001b[49m\u001b[43mkey\u001b[49m\u001b[43m,\u001b[49m\u001b[43m \u001b[49m\u001b[38;5;124;43m\"\u001b[39;49m\u001b[38;5;124;43mcolumns\u001b[39;49m\u001b[38;5;124;43m\"\u001b[39;49m\u001b[43m)\u001b[49m[\u001b[38;5;241m1\u001b[39m]\n\u001b[1;32m   3815\u001b[0m \u001b[38;5;66;03m# take() does not accept boolean indexers\u001b[39;00m\n\u001b[1;32m   3816\u001b[0m \u001b[38;5;28;01mif\u001b[39;00m \u001b[38;5;28mgetattr\u001b[39m(indexer, \u001b[38;5;124m\"\u001b[39m\u001b[38;5;124mdtype\u001b[39m\u001b[38;5;124m\"\u001b[39m, \u001b[38;5;28;01mNone\u001b[39;00m) \u001b[38;5;241m==\u001b[39m \u001b[38;5;28mbool\u001b[39m:\n",
      "File \u001b[0;32m~/.local/lib/python3.9/site-packages/pandas/core/indexes/base.py:6070\u001b[0m, in \u001b[0;36mIndex._get_indexer_strict\u001b[0;34m(self, key, axis_name)\u001b[0m\n\u001b[1;32m   6067\u001b[0m \u001b[38;5;28;01melse\u001b[39;00m:\n\u001b[1;32m   6068\u001b[0m     keyarr, indexer, new_indexer \u001b[38;5;241m=\u001b[39m \u001b[38;5;28mself\u001b[39m\u001b[38;5;241m.\u001b[39m_reindex_non_unique(keyarr)\n\u001b[0;32m-> 6070\u001b[0m \u001b[38;5;28;43mself\u001b[39;49m\u001b[38;5;241;43m.\u001b[39;49m\u001b[43m_raise_if_missing\u001b[49m\u001b[43m(\u001b[49m\u001b[43mkeyarr\u001b[49m\u001b[43m,\u001b[49m\u001b[43m \u001b[49m\u001b[43mindexer\u001b[49m\u001b[43m,\u001b[49m\u001b[43m \u001b[49m\u001b[43maxis_name\u001b[49m\u001b[43m)\u001b[49m\n\u001b[1;32m   6072\u001b[0m keyarr \u001b[38;5;241m=\u001b[39m \u001b[38;5;28mself\u001b[39m\u001b[38;5;241m.\u001b[39mtake(indexer)\n\u001b[1;32m   6073\u001b[0m \u001b[38;5;28;01mif\u001b[39;00m \u001b[38;5;28misinstance\u001b[39m(key, Index):\n\u001b[1;32m   6074\u001b[0m     \u001b[38;5;66;03m# GH 42790 - Preserve name from an Index\u001b[39;00m\n",
      "File \u001b[0;32m~/.local/lib/python3.9/site-packages/pandas/core/indexes/base.py:6130\u001b[0m, in \u001b[0;36mIndex._raise_if_missing\u001b[0;34m(self, key, indexer, axis_name)\u001b[0m\n\u001b[1;32m   6128\u001b[0m     \u001b[38;5;28;01mif\u001b[39;00m use_interval_msg:\n\u001b[1;32m   6129\u001b[0m         key \u001b[38;5;241m=\u001b[39m \u001b[38;5;28mlist\u001b[39m(key)\n\u001b[0;32m-> 6130\u001b[0m     \u001b[38;5;28;01mraise\u001b[39;00m \u001b[38;5;167;01mKeyError\u001b[39;00m(\u001b[38;5;124mf\u001b[39m\u001b[38;5;124m\"\u001b[39m\u001b[38;5;124mNone of [\u001b[39m\u001b[38;5;132;01m{\u001b[39;00mkey\u001b[38;5;132;01m}\u001b[39;00m\u001b[38;5;124m] are in the [\u001b[39m\u001b[38;5;132;01m{\u001b[39;00maxis_name\u001b[38;5;132;01m}\u001b[39;00m\u001b[38;5;124m]\u001b[39m\u001b[38;5;124m\"\u001b[39m)\n\u001b[1;32m   6132\u001b[0m not_found \u001b[38;5;241m=\u001b[39m \u001b[38;5;28mlist\u001b[39m(ensure_index(key)[missing_mask\u001b[38;5;241m.\u001b[39mnonzero()[\u001b[38;5;241m0\u001b[39m]]\u001b[38;5;241m.\u001b[39munique())\n\u001b[1;32m   6133\u001b[0m \u001b[38;5;28;01mraise\u001b[39;00m \u001b[38;5;167;01mKeyError\u001b[39;00m(\u001b[38;5;124mf\u001b[39m\u001b[38;5;124m\"\u001b[39m\u001b[38;5;132;01m{\u001b[39;00mnot_found\u001b[38;5;132;01m}\u001b[39;00m\u001b[38;5;124m not in index\u001b[39m\u001b[38;5;124m\"\u001b[39m)\n",
      "\u001b[0;31mKeyError\u001b[0m: \"None of [Index(['total_counts', 'pct_counts_mt', 'pct_counts_ribo'], dtype='object')] are in the [columns]\""
     ]
    }
   ],
   "source": [
    "sc.pp.regress_out(adata, ['total_counts', 'pct_counts_mt', 'pct_counts_ribo'])"
   ]
  },
  {
   "cell_type": "code",
   "execution_count": 43,
   "id": "5fa9436e",
   "metadata": {
    "id": "5fa9436e"
   },
   "outputs": [],
   "source": [
    "sc.pp.scale(adata, max_value=10)"
   ]
  },
  {
   "cell_type": "code",
   "execution_count": 44,
   "id": "a7986612",
   "metadata": {
    "id": "a7986612"
   },
   "outputs": [],
   "source": [
    "sc.tl.pca(adata, svd_solver='arpack')"
   ]
  },
  {
   "cell_type": "code",
   "execution_count": 45,
   "id": "7c5fb725",
   "metadata": {
    "id": "7c5fb725"
   },
   "outputs": [
    {
     "data": {
      "image/png": "[encoded data removed]",
      "text/plain": [
       "<Figure size 640x480 with 1 Axes>"
      ]
     },
     "metadata": {},
     "output_type": "display_data"
    }
   ],
   "source": [
    "sc.pl.pca_variance_ratio(adata, log=True, n_pcs = 50)"
   ]
  },
  {
   "cell_type": "code",
   "execution_count": 54,
   "id": "88ec6cf8",
   "metadata": {
    "id": "88ec6cf8"
   },
   "outputs": [],
   "source": [
    "sc.pp.neighbors(adata, n_pcs = 30)"
   ]
  },
  {
   "cell_type": "code",
   "execution_count": 65,
   "id": "e4b7b7e4-a5e4-4765-b80e-5bd5e9fca9d0",
   "metadata": {},
   "outputs": [
    {
     "name": "stdout",
     "output_type": "stream",
     "text": [
      "Requirement already satisfied: numpy in /auto/brno2/home/jiribruthans/miniforge3/envs/scan-env/lib/python3.9/site-packages (1.26.3)\n",
      "Requirement already satisfied: tensorflow in /auto/brno2/home/jiribruthans/.local/lib/python3.9/site-packages (2.14.0)\n",
      "Collecting tensorflow\n",
      "  Downloading tensorflow-2.15.0.post1-cp39-cp39-manylinux_2_17_x86_64.manylinux2014_x86_64.whl.metadata (4.2 kB)\n",
      "Requirement already satisfied: absl-py>=1.0.0 in /auto/brno2/home/jiribruthans/.local/lib/python3.9/site-packages (from tensorflow) (1.4.0)\n",
      "Requirement already satisfied: astunparse>=1.6.0 in /auto/brno2/home/jiribruthans/.local/lib/python3.9/site-packages (from tensorflow) (1.6.3)\n",
      "Requirement already satisfied: flatbuffers>=23.5.26 in /auto/brno2/home/jiribruthans/.local/lib/python3.9/site-packages (from tensorflow) (23.5.26)\n",
      "Requirement already satisfied: gast!=0.5.0,!=0.5.1,!=0.5.2,>=0.2.1 in /auto/brno2/home/jiribruthans/.local/lib/python3.9/site-packages (from tensorflow) (0.5.4)\n",
      "Requirement already satisfied: google-pasta>=0.1.1 in /auto/brno2/home/jiribruthans/.local/lib/python3.9/site-packages (from tensorflow) (0.2.0)\n",
      "Requirement already satisfied: h5py>=2.9.0 in /auto/brno2/home/jiribruthans/.local/lib/python3.9/site-packages (from tensorflow) (3.10.0)\n",
      "Requirement already satisfied: libclang>=13.0.0 in /auto/brno2/home/jiribruthans/.local/lib/python3.9/site-packages (from tensorflow) (16.0.6)\n",
      "Requirement already satisfied: ml-dtypes~=0.2.0 in /auto/brno2/home/jiribruthans/miniforge3/envs/scan-env/lib/python3.9/site-packages (from tensorflow) (0.2.0)\n",
      "Requirement already satisfied: opt-einsum>=2.3.2 in /auto/brno2/home/jiribruthans/.local/lib/python3.9/site-packages (from tensorflow) (3.3.0)\n",
      "Requirement already satisfied: packaging in /auto/brno2/home/jiribruthans/.local/lib/python3.9/site-packages (from tensorflow) (23.2)\n",
      "Requirement already satisfied: protobuf!=4.21.0,!=4.21.1,!=4.21.2,!=4.21.3,!=4.21.4,!=4.21.5,<5.0.0dev,>=3.20.3 in /auto/brno2/home/jiribruthans/.local/lib/python3.9/site-packages (from tensorflow) (4.24.4)\n",
      "Requirement already satisfied: setuptools in /auto/brno2/home/jiribruthans/.local/lib/python3.9/site-packages (from tensorflow) (68.2.2)\n",
      "Requirement already satisfied: six>=1.12.0 in /auto/brno2/home/jiribruthans/miniforge3/envs/scan-env/lib/python3.9/site-packages (from tensorflow) (1.16.0)\n",
      "Requirement already satisfied: termcolor>=1.1.0 in /auto/brno2/home/jiribruthans/.local/lib/python3.9/site-packages (from tensorflow) (2.3.0)\n",
      "Requirement already satisfied: typing-extensions>=3.6.6 in /auto/brno2/home/jiribruthans/.local/lib/python3.9/site-packages (from tensorflow) (4.8.0)\n",
      "Requirement already satisfied: wrapt<1.15,>=1.11.0 in /auto/brno2/home/jiribruthans/.local/lib/python3.9/site-packages (from tensorflow) (1.14.1)\n",
      "Requirement already satisfied: tensorflow-io-gcs-filesystem>=0.23.1 in /auto/brno2/home/jiribruthans/.local/lib/python3.9/site-packages (from tensorflow) (0.34.0)\n",
      "Requirement already satisfied: grpcio<2.0,>=1.24.3 in /auto/brno2/home/jiribruthans/.local/lib/python3.9/site-packages (from tensorflow) (1.59.0)\n",
      "Collecting tensorboard<2.16,>=2.15 (from tensorflow)\n",
      "  Downloading tensorboard-2.15.1-py3-none-any.whl.metadata (1.7 kB)\n",
      "Collecting tensorflow-estimator<2.16,>=2.15.0 (from tensorflow)\n",
      "  Downloading tensorflow_estimator-2.15.0-py2.py3-none-any.whl.metadata (1.3 kB)\n",
      "Collecting keras<2.16,>=2.15.0 (from tensorflow)\n",
      "  Downloading keras-2.15.0-py3-none-any.whl.metadata (2.4 kB)\n",
      "Requirement already satisfied: wheel<1.0,>=0.23.0 in /auto/brno2/home/jiribruthans/.local/lib/python3.9/site-packages (from astunparse>=1.6.0->tensorflow) (0.41.2)\n",
      "Requirement already satisfied: google-auth<3,>=1.6.3 in /auto/brno2/home/jiribruthans/.local/lib/python3.9/site-packages (from tensorboard<2.16,>=2.15->tensorflow) (2.23.3)\n",
      "Requirement already satisfied: google-auth-oauthlib<2,>=0.5 in /auto/brno2/home/jiribruthans/.local/lib/python3.9/site-packages (from tensorboard<2.16,>=2.15->tensorflow) (1.0.0)\n",
      "Requirement already satisfied: markdown>=2.6.8 in /auto/brno2/home/jiribruthans/.local/lib/python3.9/site-packages (from tensorboard<2.16,>=2.15->tensorflow) (3.5)\n",
      "Collecting protobuf!=4.21.0,!=4.21.1,!=4.21.2,!=4.21.3,!=4.21.4,!=4.21.5,<5.0.0dev,>=3.20.3 (from tensorflow)\n",
      "  Downloading protobuf-4.23.4-cp37-abi3-manylinux2014_x86_64.whl.metadata (540 bytes)\n",
      "Requirement already satisfied: requests<3,>=2.21.0 in /auto/brno2/home/jiribruthans/.local/lib/python3.9/site-packages (from tensorboard<2.16,>=2.15->tensorflow) (2.31.0)\n",
      "Requirement already satisfied: tensorboard-data-server<0.8.0,>=0.7.0 in /auto/brno2/home/jiribruthans/.local/lib/python3.9/site-packages (from tensorboard<2.16,>=2.15->tensorflow) (0.7.1)\n",
      "Requirement already satisfied: werkzeug>=1.0.1 in /auto/brno2/home/jiribruthans/.local/lib/python3.9/site-packages (from tensorboard<2.16,>=2.15->tensorflow) (3.0.0)\n",
      "Requirement already satisfied: cachetools<6.0,>=2.0.0 in /auto/brno2/home/jiribruthans/.local/lib/python3.9/site-packages (from google-auth<3,>=1.6.3->tensorboard<2.16,>=2.15->tensorflow) (5.3.1)\n",
      "Requirement already satisfied: pyasn1-modules>=0.2.1 in /auto/brno2/home/jiribruthans/.local/lib/python3.9/site-packages (from google-auth<3,>=1.6.3->tensorboard<2.16,>=2.15->tensorflow) (0.3.0)\n",
      "Requirement already satisfied: rsa<5,>=3.1.4 in /auto/brno2/home/jiribruthans/miniforge3/envs/scan-env/lib/python3.9/site-packages (from google-auth<3,>=1.6.3->tensorboard<2.16,>=2.15->tensorflow) (4.9)\n",
      "Requirement already satisfied: requests-oauthlib>=0.7.0 in /auto/brno2/home/jiribruthans/.local/lib/python3.9/site-packages (from google-auth-oauthlib<2,>=0.5->tensorboard<2.16,>=2.15->tensorflow) (1.3.1)\n",
      "Requirement already satisfied: importlib-metadata>=4.4 in /auto/brno2/home/jiribruthans/.local/lib/python3.9/site-packages (from markdown>=2.6.8->tensorboard<2.16,>=2.15->tensorflow) (4.13.0)\n",
      "Requirement already satisfied: charset-normalizer<4,>=2 in /auto/brno2/home/jiribruthans/.local/lib/python3.9/site-packages (from requests<3,>=2.21.0->tensorboard<2.16,>=2.15->tensorflow) (3.3.0)\n",
      "Requirement already satisfied: idna<4,>=2.5 in /auto/brno2/home/jiribruthans/miniforge3/envs/scan-env/lib/python3.9/site-packages (from requests<3,>=2.21.0->tensorboard<2.16,>=2.15->tensorflow) (3.5)\n",
      "Requirement already satisfied: urllib3<3,>=1.21.1 in /auto/brno2/home/jiribruthans/miniforge3/envs/scan-env/lib/python3.9/site-packages (from requests<3,>=2.21.0->tensorboard<2.16,>=2.15->tensorflow) (1.26.18)\n",
      "Requirement already satisfied: certifi>=2017.4.17 in /auto/brno2/home/jiribruthans/miniforge3/envs/scan-env/lib/python3.9/site-packages (from requests<3,>=2.21.0->tensorboard<2.16,>=2.15->tensorflow) (2023.11.17)\n",
      "Requirement already satisfied: MarkupSafe>=2.1.1 in /auto/brno2/home/jiribruthans/.local/lib/python3.9/site-packages (from werkzeug>=1.0.1->tensorboard<2.16,>=2.15->tensorflow) (2.1.3)\n",
      "Requirement already satisfied: zipp>=0.5 in /auto/brno2/home/jiribruthans/.local/lib/python3.9/site-packages (from importlib-metadata>=4.4->markdown>=2.6.8->tensorboard<2.16,>=2.15->tensorflow) (3.17.0)\n",
      "Requirement already satisfied: pyasn1<0.6.0,>=0.4.6 in /auto/brno2/home/jiribruthans/miniforge3/envs/scan-env/lib/python3.9/site-packages (from pyasn1-modules>=0.2.1->google-auth<3,>=1.6.3->tensorboard<2.16,>=2.15->tensorflow) (0.5.1)\n",
      "Requirement already satisfied: oauthlib>=3.0.0 in /auto/brno2/home/jiribruthans/.local/lib/python3.9/site-packages (from requests-oauthlib>=0.7.0->google-auth-oauthlib<2,>=0.5->tensorboard<2.16,>=2.15->tensorflow) (3.2.2)\n",
      "Downloading tensorflow-2.15.0.post1-cp39-cp39-manylinux_2_17_x86_64.manylinux2014_x86_64.whl (475.2 MB)\n",
      "\u001b[2K   \u001b[90m━━━━━━━━━━━━━━━━━━━━━━━━━━━━━━━━━━━━━━━━\u001b[0m \u001b[32m475.2/475.2 MB\u001b[0m \u001b[31m9.6 MB/s\u001b[0m eta \u001b[36m0:00:00\u001b[0m:00:01\u001b[0m00:01\u001b[0m\n",
      "\u001b[?25hDownloading keras-2.15.0-py3-none-any.whl (1.7 MB)\n",
      "\u001b[2K   \u001b[90m━━━━━━━━━━━━━━━━━━━━━━━━━━━━━━━━━━━━━━━━\u001b[0m \u001b[32m1.7/1.7 MB\u001b[0m \u001b[31m40.0 MB/s\u001b[0m eta \u001b[36m0:00:00\u001b[0m:00:01\u001b[0m\n",
      "\u001b[?25hDownloading tensorboard-2.15.1-py3-none-any.whl (5.5 MB)\n",
      "\u001b[2K   \u001b[90m━━━━━━━━━━━━━━━━━━━━━━━━━━━━━━━━━━━━━━━━\u001b[0m \u001b[32m5.5/5.5 MB\u001b[0m \u001b[31m57.7 MB/s\u001b[0m eta \u001b[36m0:00:00\u001b[0m:00:01\u001b[0m00:01\u001b[0m\n",
      "\u001b[?25hDownloading protobuf-4.23.4-cp37-abi3-manylinux2014_x86_64.whl (304 kB)\n",
      "\u001b[2K   \u001b[90m━━━━━━━━━━━━━━━━━━━━━━━━━━━━━━━━━━━━━━━━\u001b[0m \u001b[32m304.5/304.5 kB\u001b[0m \u001b[31m9.3 MB/s\u001b[0m eta \u001b[36m0:00:00\u001b[0m\n",
      "\u001b[?25hDownloading tensorflow_estimator-2.15.0-py2.py3-none-any.whl (441 kB)\n",
      "\u001b[2K   \u001b[90m━━━━━━━━━━━━━━━━━━━━━━━━━━━━━━━━━━━━━━━━\u001b[0m \u001b[32m442.0/442.0 kB\u001b[0m \u001b[31m11.3 MB/s\u001b[0m eta \u001b[36m0:00:00\u001b[0m00:01\u001b[0m\n",
      "\u001b[?25hInstalling collected packages: tensorflow-estimator, protobuf, keras, tensorboard, tensorflow\n",
      "  Attempting uninstall: tensorflow-estimator\n",
      "    Found existing installation: tensorflow-estimator 2.14.0\n",
      "    Uninstalling tensorflow-estimator-2.14.0:\n",
      "      Successfully uninstalled tensorflow-estimator-2.14.0\n",
      "  Attempting uninstall: protobuf\n",
      "    Found existing installation: protobuf 4.24.4\n",
      "    Uninstalling protobuf-4.24.4:\n",
      "      Successfully uninstalled protobuf-4.24.4\n",
      "\u001b[33m  WARNING: Failed to remove contents in a temporary directory '/auto/brno2/home/jiribruthans/.local/lib/python3.9/site-packages/google/~upb'.\n",
      "  You can safely remove it manually.\u001b[0m\u001b[33m\n",
      "\u001b[0m  Attempting uninstall: keras\n",
      "    Found existing installation: keras 2.14.0\n",
      "    Uninstalling keras-2.14.0:\n",
      "      Successfully uninstalled keras-2.14.0\n",
      "  Attempting uninstall: tensorboard\n",
      "    Found existing installation: tensorboard 2.14.1\n",
      "    Uninstalling tensorboard-2.14.1:\n",
      "      Successfully uninstalled tensorboard-2.14.1\n",
      "  Attempting uninstall: tensorflow\n",
      "    Found existing installation: tensorflow 2.14.0\n",
      "    Uninstalling tensorflow-2.14.0:\n",
      "      Successfully uninstalled tensorflow-2.14.0\n",
      "\u001b[33m  WARNING: Failed to remove contents in a temporary directory '/auto/brno2/home/jiribruthans/.local/lib/python3.9/site-packages/~ensorflow'.\n",
      "  You can safely remove it manually.\u001b[0m\u001b[33m\n",
      "\u001b[0m\u001b[31mERROR: pip's dependency resolver does not currently take into account all the packages that are installed. This behaviour is the source of the following dependency conflicts.\n",
      "tensorflow-cpu 2.14.0 requires keras<2.15,>=2.14.0, but you have keras 2.15.0 which is incompatible.\n",
      "tensorflow-cpu 2.14.0 requires tensorboard<2.15,>=2.14, but you have tensorboard 2.15.1 which is incompatible.\n",
      "tensorflow-cpu 2.14.0 requires tensorflow-estimator<2.15,>=2.14.0, but you have tensorflow-estimator 2.15.0 which is incompatible.\u001b[0m\u001b[31m\n",
      "\u001b[0mSuccessfully installed keras-2.15.0 protobuf-4.23.4 tensorboard-2.15.1 tensorflow-2.15.0.post1 tensorflow-estimator-2.15.0\n"
     ]
    }
   ],
   "source": [
    "#!pip install numpy --upgrade tensorflow"
   ]
  },
  {
   "cell_type": "code",
   "execution_count": 66,
   "id": "327d9041",
   "metadata": {
    "id": "327d9041"
   },
   "outputs": [],
   "source": [
    "sc.tl.umap(adata)"
   ]
  },
  {
   "cell_type": "code",
   "execution_count": 67,
   "id": "93391aeb",
   "metadata": {
    "id": "93391aeb"
   },
   "outputs": [
    {
     "name": "stderr",
     "output_type": "stream",
     "text": [
      "/storage/brno2/home/jiribruthans/.local/lib/python3.9/site-packages/scanpy/plotting/_tools/scatterplots.py:394: UserWarning: No data for colormapping provided via 'c'. Parameters 'cmap', 'norm' will be ignored\n",
      "  cax = scatter(\n"
     ]
    },
    {
     "data": {
      "image/png": "[encoded data removed]",
      "text/plain": [
       "<Figure size 640x480 with 1 Axes>"
      ]
     },
     "metadata": {},
     "output_type": "display_data"
    }
   ],
   "source": [
    "sc.pl.umap(adata)"
   ]
  },
  {
   "cell_type": "code",
   "execution_count": null,
   "id": "5a2f975f",
   "metadata": {
    "id": "5a2f975f"
   },
   "outputs": [],
   "source": [
    "#!pip install leidenalg"
   ]
  },
  {
   "cell_type": "code",
   "execution_count": null,
   "id": "e93707ce",
   "metadata": {
    "id": "e93707ce"
   },
   "outputs": [],
   "source": [
    "sc.tl.leiden(adata, resolution = 0.5)"
   ]
  },
  {
   "cell_type": "code",
   "execution_count": null,
   "id": "04c81db8",
   "metadata": {
    "id": "04c81db8"
   },
   "outputs": [],
   "source": [
    "adata.obs"
   ]
  },
  {
   "cell_type": "code",
   "execution_count": null,
   "id": "a631668c",
   "metadata": {
    "id": "a631668c"
   },
   "outputs": [],
   "source": [
    "sc.pl.umap(adata, color=['leiden'])"
   ]
  },
  {
   "cell_type": "markdown",
   "id": "9c140ed5",
   "metadata": {
    "id": "9c140ed5",
    "jp-MarkdownHeadingCollapsed": true
   },
   "source": [
    "# Integration"
   ]
  },
  {
   "cell_type": "code",
   "execution_count": null,
   "id": "a296b545",
   "metadata": {
    "id": "a296b545"
   },
   "outputs": [],
   "source": [
    "def pp(csv_path):\n",
    "    adata = sc.read_csv(csv_path).T\n",
    "    sc.pp.filter_genes(adata, min_cells = 10)\n",
    "    sc.pp.highly_variable_genes(adata, n_top_genes = 2000, subset = True, flavor = 'seurat_v3')\n",
    "    scvi.model.SCVI.setup_anndata(adata)\n",
    "    vae = scvi.model.SCVI(adata)\n",
    "    vae.train()\n",
    "    solo = scvi.external.SOLO.from_scvi_model(vae)\n",
    "    solo.train()\n",
    "    df = solo.predict()\n",
    "    df['prediction'] = solo.predict(soft = False)\n",
    "    df.index = df.index.map(lambda x: x[:-2])\n",
    "    df['dif'] = df.doublet - df.singlet\n",
    "    doublets = df[(df.prediction == 'doublet') & (df.dif > 1)]\n",
    "\n",
    "    adata = sc.read_csv(csv_path).T\n",
    "    adata.obs['Sample'] = csv_path.split('_')[2] #'raw_counts/GSM5226574_C51ctr_raw_counts.csv'\n",
    "\n",
    "    adata.obs['doublet'] = adata.obs.index.isin(doublets.index)\n",
    "    adata = adata[~adata.obs.doublet]\n",
    "\n",
    "\n",
    "    sc.pp.filter_cells(adata, min_genes=200) #get rid of cells with fewer than 200 genes\n",
    "    #sc.pp.filter_genes(adata, min_cells=3) #get rid of genes that are found in fewer than 3 cells\n",
    "    adata.var['mt'] = adata.var_names.str.startswith('mt-')  # annotate the group of mitochondrial genes as 'mt'\n",
    "    adata.var['ribo'] = adata.var_names.isin(ribo_genes[0].values)\n",
    "    sc.pp.calculate_qc_metrics(adata, qc_vars=['mt', 'ribo'], percent_top=None, log1p=False, inplace=True)\n",
    "    upper_lim = np.quantile(adata.obs.n_genes_by_counts.values, .98)\n",
    "    adata = adata[adata.obs.n_genes_by_counts < upper_lim]\n",
    "    adata = adata[adata.obs.pct_counts_mt < 20]\n",
    "    adata = adata[adata.obs.pct_counts_ribo < 2]\n",
    "\n",
    "    return adata"
   ]
  },
  {
   "cell_type": "code",
   "execution_count": null,
   "id": "a540ec07",
   "metadata": {
    "id": "a540ec07"
   },
   "outputs": [],
   "source": [
    "import os"
   ]
  },
  {
   "cell_type": "code",
   "execution_count": null,
   "id": "85324fb7",
   "metadata": {
    "id": "85324fb7"
   },
   "outputs": [],
   "source": [
    "out = []\n",
    "for file in os.listdir('raw_counts/'):\n",
    "    out.append(pp('raw_counts/' + file))"
   ]
  },
  {
   "cell_type": "code",
   "execution_count": null,
   "id": "945d16b9",
   "metadata": {
    "id": "945d16b9"
   },
   "outputs": [],
   "source": [
    "adata = sc.concat(out)"
   ]
  },
  {
   "cell_type": "code",
   "execution_count": null,
   "id": "9e6f54f2",
   "metadata": {
    "id": "9e6f54f2"
   },
   "outputs": [],
   "source": [
    "adata"
   ]
  },
  {
   "cell_type": "code",
   "execution_count": null,
   "id": "c16d7a17",
   "metadata": {
    "id": "c16d7a17"
   },
   "outputs": [],
   "source": [
    "sc.pp.filter_genes(adata, min_cells = 10)"
   ]
  },
  {
   "cell_type": "code",
   "execution_count": null,
   "id": "3be5d4f5",
   "metadata": {
    "id": "3be5d4f5"
   },
   "outputs": [],
   "source": [
    "adata.X"
   ]
  },
  {
   "cell_type": "code",
   "execution_count": null,
   "id": "2db3c171",
   "metadata": {
    "id": "2db3c171"
   },
   "outputs": [],
   "source": [
    "from scipy.sparse import csr_matrix"
   ]
  },
  {
   "cell_type": "code",
   "execution_count": null,
   "id": "a5e22a83",
   "metadata": {
    "id": "a5e22a83"
   },
   "outputs": [],
   "source": [
    "adata.X = csr_matrix(adata.X)"
   ]
  },
  {
   "cell_type": "code",
   "execution_count": null,
   "id": "7dfd84cd",
   "metadata": {
    "id": "7dfd84cd"
   },
   "outputs": [],
   "source": [
    "adata.X"
   ]
  },
  {
   "cell_type": "code",
   "execution_count": null,
   "id": "62ff89e2",
   "metadata": {
    "id": "62ff89e2"
   },
   "outputs": [],
   "source": [
    "adata.write_h5ad('combined.h5ad')"
   ]
  },
  {
   "cell_type": "code",
   "execution_count": null,
   "id": "8c942dc1",
   "metadata": {
    "id": "8c942dc1"
   },
   "outputs": [],
   "source": [
    "########################################################"
   ]
  },
  {
   "cell_type": "code",
   "execution_count": null,
   "id": "7e3d7b00",
   "metadata": {
    "id": "7e3d7b00"
   },
   "outputs": [],
   "source": [
    "import scanpy as sc\n",
    "import scvi\n",
    "import seaborn as sns\n",
    "import numpy as np\n",
    "import pandas as pd"
   ]
  },
  {
   "cell_type": "code",
   "execution_count": null,
   "id": "5b9c9878",
   "metadata": {
    "id": "5b9c9878"
   },
   "outputs": [],
   "source": [
    "adata = sc.read_h5ad('combined.h5ad')\n",
    "adata"
   ]
  },
  {
   "cell_type": "code",
   "execution_count": null,
   "id": "5b9a0459",
   "metadata": {
    "id": "5b9a0459"
   },
   "outputs": [],
   "source": [
    "adata.obs.groupby('Sample').count()"
   ]
  },
  {
   "cell_type": "code",
   "execution_count": null,
   "id": "6526a60f",
   "metadata": {
    "id": "6526a60f"
   },
   "outputs": [],
   "source": [
    "sc.pp.filter_genes(adata, min_cells = 100)"
   ]
  },
  {
   "cell_type": "code",
   "execution_count": null,
   "id": "e02218ff",
   "metadata": {
    "id": "e02218ff"
   },
   "outputs": [],
   "source": [
    "adata"
   ]
  },
  {
   "cell_type": "code",
   "execution_count": null,
   "id": "563deca4",
   "metadata": {
    "id": "563deca4"
   },
   "outputs": [],
   "source": [
    "adata.layers['counts'] = adata.X.copy()"
   ]
  },
  {
   "cell_type": "code",
   "execution_count": null,
   "id": "3882376b",
   "metadata": {
    "id": "3882376b"
   },
   "outputs": [],
   "source": [
    "sc.pp.normalize_total(adata, target_sum = 1e4)\n",
    "sc.pp.log1p(adata)\n",
    "adata.raw = adata"
   ]
  },
  {
   "cell_type": "code",
   "execution_count": null,
   "id": "04e8a10e",
   "metadata": {
    "id": "04e8a10e"
   },
   "outputs": [],
   "source": [
    "adata.obs.head()"
   ]
  },
  {
   "cell_type": "code",
   "execution_count": null,
   "id": "7a87ae09",
   "metadata": {
    "id": "7a87ae09"
   },
   "outputs": [],
   "source": [
    "adata"
   ]
  },
  {
   "cell_type": "code",
   "execution_count": null,
   "id": "312b0fd6",
   "metadata": {
    "id": "312b0fd6"
   },
   "outputs": [],
   "source": [
    "# sc.pp.highly_variable_genes(adata, n_top_genes=3000, subset = True, layer = 'counts',\n",
    "#                            flavor = \"seurat_v3\", batch_key=\"Sample\") #no batch_key if one sample"
   ]
  },
  {
   "cell_type": "code",
   "execution_count": null,
   "id": "6db7474d",
   "metadata": {
    "id": "6db7474d"
   },
   "outputs": [],
   "source": [
    "scvi.model.SCVI.setup_anndata(adata, layer = \"counts\",\n",
    "                             categorical_covariate_keys=[\"Sample\"],\n",
    "                             continuous_covariate_keys=['pct_counts_mt', 'total_counts', 'pct_counts_ribo'])"
   ]
  },
  {
   "cell_type": "code",
   "execution_count": null,
   "id": "7e17bba3",
   "metadata": {
    "id": "7e17bba3"
   },
   "outputs": [],
   "source": [
    "model = scvi.model.SCVI(adata)"
   ]
  },
  {
   "cell_type": "code",
   "execution_count": null,
   "id": "04856ad2",
   "metadata": {
    "id": "04856ad2"
   },
   "outputs": [],
   "source": [
    "model.train() #may take a while without GPU"
   ]
  },
  {
   "cell_type": "code",
   "execution_count": null,
   "id": "3287d1f0",
   "metadata": {
    "id": "3287d1f0"
   },
   "outputs": [],
   "source": [
    "adata.obsm['X_scVI'] = model.get_latent_representation()"
   ]
  },
  {
   "cell_type": "code",
   "execution_count": null,
   "id": "e1edef3a",
   "metadata": {
    "id": "e1edef3a"
   },
   "outputs": [],
   "source": [
    "adata.layers['scvi_normalized'] = model.get_normalized_expression(library_size = 1e4)"
   ]
  },
  {
   "cell_type": "code",
   "execution_count": null,
   "id": "aeff99e3",
   "metadata": {
    "id": "aeff99e3"
   },
   "outputs": [],
   "source": [
    "sc.pp.neighbors(adata, use_rep = 'X_scVI')"
   ]
  },
  {
   "cell_type": "code",
   "execution_count": null,
   "id": "700b839f",
   "metadata": {
    "id": "700b839f"
   },
   "outputs": [],
   "source": [
    "sc.tl.umap(adata)\n",
    "sc.tl.leiden(adata, resolution = 0.5)"
   ]
  },
  {
   "cell_type": "code",
   "execution_count": null,
   "id": "e982c3c5",
   "metadata": {
    "id": "e982c3c5"
   },
   "outputs": [],
   "source": [
    "sc.pl.umap(adata, color = ['leiden', 'Sample'], frameon = False)"
   ]
  },
  {
   "cell_type": "code",
   "execution_count": null,
   "id": "9df9f808",
   "metadata": {
    "id": "9df9f808"
   },
   "outputs": [],
   "source": [
    "adata.write_h5ad('integrated.h5ad')"
   ]
  },
  {
   "cell_type": "markdown",
   "id": "06c27f56",
   "metadata": {
    "id": "06c27f56"
   },
   "source": [
    "# Find markers/ label cell types"
   ]
  },
  {
   "cell_type": "code",
   "execution_count": null,
   "id": "25957161",
   "metadata": {
    "id": "25957161"
   },
   "outputs": [],
   "source": [
    "sc.tl.leiden(adata, resolution = 1)"
   ]
  },
  {
   "cell_type": "code",
   "execution_count": null,
   "id": "b030b8bd",
   "metadata": {
    "id": "b030b8bd",
    "scrolled": true
   },
   "outputs": [],
   "source": [
    "sc.tl.rank_genes_groups(adata, 'leiden')"
   ]
  },
  {
   "cell_type": "code",
   "execution_count": null,
   "id": "1ac12118",
   "metadata": {
    "id": "1ac12118"
   },
   "outputs": [],
   "source": [
    "#sc.pl.rank_genes_groups(adata, n_genes=20, sharey=False)"
   ]
  },
  {
   "cell_type": "code",
   "execution_count": null,
   "id": "77303b3e",
   "metadata": {
    "id": "77303b3e"
   },
   "outputs": [],
   "source": [
    "markers = sc.get.rank_genes_groups_df(adata, None)\n",
    "markers = markers[(markers.pvals_adj < 0.05) & (markers.logfoldchanges > .5)]\n",
    "markers"
   ]
  },
  {
   "cell_type": "code",
   "execution_count": null,
   "id": "3a0b92f1",
   "metadata": {
    "id": "3a0b92f1"
   },
   "outputs": [],
   "source": [
    "markers_scvi = model.differential_expression(groupby = 'leiden')\n",
    "markers_scvi"
   ]
  },
  {
   "cell_type": "code",
   "execution_count": null,
   "id": "1a19c681",
   "metadata": {
    "id": "1a19c681"
   },
   "outputs": [],
   "source": [
    "markers_scvi = markers_scvi[(markers_scvi['is_de_fdr_0.05']) & (markers_scvi.lfc_mean > .5)]\n",
    "markers_scvi"
   ]
  },
  {
   "cell_type": "code",
   "execution_count": null,
   "id": "42890f53",
   "metadata": {
    "id": "42890f53"
   },
   "outputs": [],
   "source": [
    "sc.pl.umap(adata, color = ['leiden'], frameon = False, legend_loc = \"on data\")"
   ]
  },
  {
   "cell_type": "code",
   "execution_count": null,
   "id": "c8c57836",
   "metadata": {
    "id": "c8c57836"
   },
   "outputs": [],
   "source": [
    "sc.pl.umap(adata, color = ['EPCAM', 'MUC1'], frameon = False, layer = 'scvi_normalized', vmax = 5)\n",
    "#, layer = 'scvi_normalized'"
   ]
  },
  {
   "cell_type": "code",
   "execution_count": null,
   "id": "ecae8d93",
   "metadata": {
    "id": "ecae8d93"
   },
   "outputs": [],
   "source": [
    "cell_type = {\"0\":\"Macrophage\",\n",
    "\"1\":\"Fibroblast\",\n",
    "\"2\":\"CD4+ T-cell\",\n",
    "\"3\":\"AT2\",\n",
    "\"4\":\"AT1\",\n",
    "\"5\":\"CD8+ T-cell\",\n",
    "\"6\":\"Endothelial cell\",\n",
    "\"7\":\"Plasma cell\",\n",
    "\"8\":\"Macrophage\",\n",
    "\"9\":\"AT2\",\n",
    "\"10\":\"Fibroblast\",\n",
    "\"11\":\"Fibroblast\",\n",
    "\"12\":\"Macrophage\",\n",
    "\"13\":\"Macrophage\",\n",
    "\"14\":\"Airway epithelial\",\n",
    "\"15\":\"Airway epithelial\",\n",
    "\"16\":\"Monocyte\",\n",
    "\"17\":\"Airway epithelial\",\n",
    "\"18\":\"B-cell\",\n",
    "\"19\":\"Aerocyte\",\n",
    "\"20\":\"Airway epithelial\",\n",
    "\"21\":\"Smooth muscle cell\",\n",
    "\"22\":\"Cycling T/NK\",\n",
    "\"23\":\"Neuronal cell\",\n",
    "\"24\":\"Denditic cell\",\n",
    "\"25\":\"Pericyte\",\n",
    "\"26\":\"Fibroblast\",\n",
    "\"27\":\"Erythroid-like\",\n",
    "\"28\":\"Macrophage\"\n",
    "}\n"
   ]
  },
  {
   "cell_type": "code",
   "execution_count": null,
   "id": "ceb467a8",
   "metadata": {
    "id": "ceb467a8"
   },
   "outputs": [],
   "source": [
    "adata.obs['cell type'] = adata.obs.leiden.map(cell_type)"
   ]
  },
  {
   "cell_type": "code",
   "execution_count": null,
   "id": "56485414",
   "metadata": {
    "id": "56485414"
   },
   "outputs": [],
   "source": [
    "sc.pl.umap(adata, color = ['cell type'], frameon = False)"
   ]
  },
  {
   "cell_type": "code",
   "execution_count": null,
   "id": "e6a6a7e8",
   "metadata": {
    "id": "e6a6a7e8"
   },
   "outputs": [],
   "source": [
    "adata"
   ]
  },
  {
   "cell_type": "code",
   "execution_count": null,
   "id": "50dcc3f9",
   "metadata": {
    "id": "50dcc3f9"
   },
   "outputs": [],
   "source": [
    "adata.uns['scvi_markers'] = markers_scvi\n",
    "adata.uns['markers'] = markers"
   ]
  },
  {
   "cell_type": "code",
   "execution_count": null,
   "id": "78b9fb36",
   "metadata": {
    "id": "78b9fb36"
   },
   "outputs": [],
   "source": [
    "adata.write_h5ad('integrated.h5ad')"
   ]
  },
  {
   "cell_type": "code",
   "execution_count": null,
   "id": "b0bdc418",
   "metadata": {
    "id": "b0bdc418"
   },
   "outputs": [],
   "source": [
    "model.save('model.model')"
   ]
  },
  {
   "cell_type": "markdown",
   "id": "f2bc63cb",
   "metadata": {
    "id": "f2bc63cb"
   },
   "source": [
    "# Analysis"
   ]
  },
  {
   "cell_type": "code",
   "execution_count": null,
   "id": "ae5d8ecb",
   "metadata": {
    "id": "ae5d8ecb"
   },
   "outputs": [],
   "source": [
    "import scanpy as sc\n",
    "import scvi\n",
    "import seaborn as sns\n",
    "import numpy as np\n",
    "import pandas as pd"
   ]
  },
  {
   "cell_type": "markdown",
   "id": "4b2e39f6",
   "metadata": {
    "id": "4b2e39f6"
   },
   "source": [
    "## Counting cells"
   ]
  },
  {
   "cell_type": "code",
   "execution_count": null,
   "id": "b64a79af",
   "metadata": {
    "id": "b64a79af"
   },
   "outputs": [],
   "source": [
    "adata = sc.read_h5ad('integrated.h5ad')"
   ]
  },
  {
   "cell_type": "code",
   "execution_count": null,
   "id": "e86a35bf",
   "metadata": {
    "id": "e86a35bf"
   },
   "outputs": [],
   "source": [
    "adata.obs.Sample.unique().tolist()"
   ]
  },
  {
   "cell_type": "code",
   "execution_count": null,
   "id": "20b4c27c",
   "metadata": {
    "id": "20b4c27c"
   },
   "outputs": [],
   "source": [
    "def map_condition(x):\n",
    "    if 'cov' in x:\n",
    "        return 'COVID19'\n",
    "    else:\n",
    "        return 'control'"
   ]
  },
  {
   "cell_type": "code",
   "execution_count": null,
   "id": "d9a31dec",
   "metadata": {
    "id": "d9a31dec"
   },
   "outputs": [],
   "source": [
    "adata.obs['condition'] = adata.obs.Sample.map(map_condition)\n",
    "adata.obs"
   ]
  },
  {
   "cell_type": "code",
   "execution_count": null,
   "id": "37a9cfe5",
   "metadata": {
    "id": "37a9cfe5"
   },
   "outputs": [],
   "source": [
    "num_tot_cells = adata.obs.groupby(['Sample']).count()\n",
    "num_tot_cells = dict(zip(num_tot_cells.index, num_tot_cells.doublet))\n",
    "num_tot_cells"
   ]
  },
  {
   "cell_type": "code",
   "execution_count": null,
   "id": "59417bc0",
   "metadata": {
    "id": "59417bc0"
   },
   "outputs": [],
   "source": [
    "cell_type_counts = adata.obs.groupby(['Sample', 'condition', 'cell type']).count()\n",
    "cell_type_counts = cell_type_counts[cell_type_counts.sum(axis = 1) > 0].reset_index()\n",
    "cell_type_counts = cell_type_counts[cell_type_counts.columns[0:4]]\n",
    "cell_type_counts"
   ]
  },
  {
   "cell_type": "code",
   "execution_count": null,
   "id": "52793349",
   "metadata": {
    "id": "52793349"
   },
   "outputs": [],
   "source": [
    "cell_type_counts['total_cells'] = cell_type_counts.Sample.map(num_tot_cells).astype(int)\n",
    "\n",
    "cell_type_counts['frequency'] = cell_type_counts.doublet / cell_type_counts.total_cells\n",
    "\n",
    "cell_type_counts"
   ]
  },
  {
   "cell_type": "code",
   "execution_count": null,
   "id": "5cb7b2bd",
   "metadata": {
    "id": "5cb7b2bd"
   },
   "outputs": [],
   "source": [
    "import matplotlib.pyplot as plt\n",
    "\n",
    "plt.figure(figsize = (10,4))\n",
    "\n",
    "ax = sns.boxplot(data = cell_type_counts, x = 'cell type', y = 'frequency', hue = 'condition')\n",
    "\n",
    "plt.xticks(rotation = 35, rotation_mode = 'anchor', ha = 'right')\n",
    "\n",
    "plt.show()\n"
   ]
  },
  {
   "cell_type": "code",
   "execution_count": null,
   "id": "4cc816d1",
   "metadata": {
    "id": "4cc816d1"
   },
   "outputs": [],
   "source": []
  },
  {
   "cell_type": "markdown",
   "id": "1250fd2d",
   "metadata": {
    "id": "1250fd2d"
   },
   "source": [
    "## DE"
   ]
  },
  {
   "cell_type": "code",
   "execution_count": null,
   "id": "28b550f4",
   "metadata": {
    "id": "28b550f4"
   },
   "outputs": [],
   "source": [
    "subset = adata[adata.obs['cell type'].isin(['AT1', 'AT2'])].copy()"
   ]
  },
  {
   "cell_type": "code",
   "execution_count": null,
   "id": "3c3d8a2e",
   "metadata": {
    "id": "3c3d8a2e"
   },
   "outputs": [],
   "source": [
    "#two options: SCVI or diffxpy"
   ]
  },
  {
   "cell_type": "code",
   "execution_count": null,
   "id": "8f09b339",
   "metadata": {
    "id": "8f09b339"
   },
   "outputs": [],
   "source": [
    "import diffxpy.api as de"
   ]
  },
  {
   "cell_type": "code",
   "execution_count": null,
   "id": "f83e4a6b",
   "metadata": {
    "id": "f83e4a6b"
   },
   "outputs": [],
   "source": [
    "subset.X = subset.X.toarray()"
   ]
  },
  {
   "cell_type": "code",
   "execution_count": null,
   "id": "05fc11de",
   "metadata": {
    "id": "05fc11de"
   },
   "outputs": [],
   "source": [
    "len(subset.var)"
   ]
  },
  {
   "cell_type": "code",
   "execution_count": null,
   "id": "94dd84b5",
   "metadata": {
    "id": "94dd84b5"
   },
   "outputs": [],
   "source": [
    "subset"
   ]
  },
  {
   "cell_type": "code",
   "execution_count": null,
   "id": "c91840a4",
   "metadata": {
    "id": "c91840a4"
   },
   "outputs": [],
   "source": [
    "sc.pp.filter_genes(subset, min_cells=100)"
   ]
  },
  {
   "cell_type": "code",
   "execution_count": null,
   "id": "8c480048",
   "metadata": {
    "id": "8c480048"
   },
   "outputs": [],
   "source": [
    "len(subset.var)"
   ]
  },
  {
   "cell_type": "code",
   "execution_count": null,
   "id": "fc158b2c",
   "metadata": {
    "id": "fc158b2c"
   },
   "outputs": [],
   "source": [
    "subset.obs = subset.obs.rename(columns = {'cell type':'cell_type'})"
   ]
  },
  {
   "cell_type": "code",
   "execution_count": null,
   "id": "238d9c7b",
   "metadata": {
    "id": "238d9c7b"
   },
   "outputs": [],
   "source": [
    "#subset = subset.raw.to_adata() #need to run this if you scaled/regress your data and have negative numbers\n"
   ]
  },
  {
   "cell_type": "code",
   "execution_count": null,
   "id": "21c18a60",
   "metadata": {
    "id": "21c18a60"
   },
   "outputs": [],
   "source": [
    "subset.obs"
   ]
  },
  {
   "cell_type": "code",
   "execution_count": null,
   "id": "4623832b",
   "metadata": {
    "id": "4623832b"
   },
   "outputs": [],
   "source": [
    "#if want to test between covid/non covid\n",
    "# res = de.test.wald(data=subset,\n",
    "#              formula_loc= '~ 1 + condition',\n",
    "#              factor_loc_totest='condition'\n",
    "#                   )\n",
    "\n",
    "\n",
    "res = de.test.wald(data=subset,\n",
    "             formula_loc= '~ 1 + cell_type',\n",
    "             factor_loc_totest='cell_type'\n",
    "                  )"
   ]
  },
  {
   "cell_type": "code",
   "execution_count": null,
   "id": "4108ee6a",
   "metadata": {
    "id": "4108ee6a"
   },
   "outputs": [],
   "source": [
    "dedf = res.summary().sort_values('log2fc', ascending = False).reset_index(drop = True)\n",
    "dedf"
   ]
  },
  {
   "cell_type": "code",
   "execution_count": null,
   "id": "18375ba3",
   "metadata": {
    "id": "18375ba3"
   },
   "outputs": [],
   "source": [
    "subset.obs.cell_type.unique()"
   ]
  },
  {
   "cell_type": "code",
   "execution_count": null,
   "id": "9269be35",
   "metadata": {
    "id": "9269be35"
   },
   "outputs": [],
   "source": [
    "most_up = dedf.iloc[0].gene\n",
    "i = np.where(subset.var_names == most_up)[0][0]\n",
    "\n",
    "a = subset[subset.obs.cell_type == 'AT1'].X[:, i]\n",
    "b = subset[subset.obs.cell_type == 'AT2'].X[:, i]\n",
    "print(f\"{most_up} expression:\")\n",
    "print(f\"AT1: {a.mean()}\")\n",
    "print(f\"AT2: {b.mean()}\")\n"
   ]
  },
  {
   "cell_type": "code",
   "execution_count": null,
   "id": "5c6a38b8",
   "metadata": {
    "id": "5c6a38b8"
   },
   "outputs": [],
   "source": [
    "dedf['log2fc'] = dedf['log2fc']*-1\n",
    "dedf = dedf.sort_values('log2fc', ascending = False).reset_index(drop = True)\n",
    "dedf"
   ]
  },
  {
   "cell_type": "code",
   "execution_count": null,
   "id": "cd197a6b",
   "metadata": {
    "id": "cd197a6b"
   },
   "outputs": [],
   "source": [
    "dedf = dedf[(dedf.qval < 0.05) & (abs(dedf.log2fc) > .5)]\n",
    "dedf"
   ]
  },
  {
   "cell_type": "code",
   "execution_count": null,
   "id": "22a54943",
   "metadata": {
    "id": "22a54943"
   },
   "outputs": [],
   "source": [
    "dedf = dedf[dedf['mean'] > 0.15]\n",
    "dedf"
   ]
  },
  {
   "cell_type": "code",
   "execution_count": null,
   "id": "3b6c5f25",
   "metadata": {
    "id": "3b6c5f25"
   },
   "outputs": [],
   "source": [
    "genes_to_show = dedf[-25:].gene.tolist() + dedf[:25].gene.tolist() #top 25 and bottom 25 from sorted df"
   ]
  },
  {
   "cell_type": "code",
   "execution_count": null,
   "id": "e6c56cd6",
   "metadata": {
    "id": "e6c56cd6"
   },
   "outputs": [],
   "source": [
    "sc.pl.heatmap(subset, genes_to_show, groupby='cell_type', swap_axes=True)"
   ]
  },
  {
   "cell_type": "code",
   "execution_count": null,
   "id": "e5aa8399",
   "metadata": {
    "id": "e5aa8399"
   },
   "outputs": [],
   "source": [
    "#DE with scvi"
   ]
  },
  {
   "cell_type": "code",
   "execution_count": null,
   "id": "d95da62c",
   "metadata": {
    "id": "d95da62c"
   },
   "outputs": [],
   "source": [
    "model  = scvi.model.SCVI.load('model.model', adata)"
   ]
  },
  {
   "cell_type": "code",
   "execution_count": null,
   "id": "5f0fc2f0",
   "metadata": {
    "id": "5f0fc2f0"
   },
   "outputs": [],
   "source": [
    "model"
   ]
  },
  {
   "cell_type": "code",
   "execution_count": null,
   "id": "ad20a614",
   "metadata": {
    "id": "ad20a614"
   },
   "outputs": [],
   "source": [
    "scvi_de = model.differential_expression(\n",
    "    idx1 = [adata.obs['cell type'] == 'AT1'],\n",
    "    idx2 = [adata.obs['cell type'] == 'AT2']\n",
    "    )\n",
    "\n",
    "#any set of cells vs any set of cells\n",
    "# scvi_de = model.differential_expression(\n",
    "#     idx1 = [(adata.obs['cell type'].isin(['AT1', 'AT2'])) & (adata.obs.condition == 'COVID19')],\n",
    "#     idx2 = [(adata.obs['cell type'].isin(['AT1', 'AT2'])) & (adata.obs.condition == 'control')]\n",
    "#     )"
   ]
  },
  {
   "cell_type": "code",
   "execution_count": null,
   "id": "4e9ba820",
   "metadata": {
    "id": "4e9ba820"
   },
   "outputs": [],
   "source": [
    "scvi_de"
   ]
  },
  {
   "cell_type": "code",
   "execution_count": null,
   "id": "074ed994",
   "metadata": {
    "id": "074ed994"
   },
   "outputs": [],
   "source": [
    "scvi_de = scvi_de[(scvi_de['is_de_fdr_0.05']) & (abs(scvi_de.lfc_mean) > .5)]\n",
    "scvi_de = scvi_de.sort_values('lfc_mean')\n",
    "scvi_de"
   ]
  },
  {
   "cell_type": "code",
   "execution_count": null,
   "id": "ee6586e6",
   "metadata": {
    "id": "ee6586e6"
   },
   "outputs": [],
   "source": [
    "scvi_de = scvi_de[(scvi_de.raw_normalized_mean1 > .5) | (scvi_de.raw_normalized_mean2 > .5)]\n",
    "scvi_de"
   ]
  },
  {
   "cell_type": "code",
   "execution_count": null,
   "id": "a3d7b2d5",
   "metadata": {
    "id": "a3d7b2d5"
   },
   "outputs": [],
   "source": [
    "genes_to_show = scvi_de[-25:].index.tolist() + scvi_de[:25].index.tolist() #top 25 and bottom 25 from sorted df\n"
   ]
  },
  {
   "cell_type": "code",
   "execution_count": null,
   "id": "8effa416",
   "metadata": {
    "id": "8effa416"
   },
   "outputs": [],
   "source": [
    "\n",
    "sc.pl.heatmap(subset, genes_to_show, groupby='cell_type', swap_axes=True, layer = 'scvi_normalized',\n",
    "              log = True)"
   ]
  },
  {
   "cell_type": "markdown",
   "id": "8a1d561b",
   "metadata": {
    "id": "8a1d561b"
   },
   "source": [
    "# GO enrichment"
   ]
  },
  {
   "cell_type": "code",
   "execution_count": null,
   "id": "58881938",
   "metadata": {
    "id": "58881938"
   },
   "outputs": [],
   "source": [
    "import gseapy as gp #this method requires internet connection"
   ]
  },
  {
   "cell_type": "code",
   "execution_count": null,
   "id": "5ca499a2",
   "metadata": {
    "id": "5ca499a2"
   },
   "outputs": [],
   "source": [
    "gp.get_library_name()\n",
    "# 'GO_Biological_Process_2021',\n",
    "#'KEGG_2021_Human',"
   ]
  },
  {
   "cell_type": "code",
   "execution_count": null,
   "id": "1bfd00f7",
   "metadata": {
    "id": "1bfd00f7"
   },
   "outputs": [],
   "source": [
    "subset"
   ]
  },
  {
   "cell_type": "code",
   "execution_count": null,
   "id": "6ac69ecb",
   "metadata": {
    "id": "6ac69ecb"
   },
   "outputs": [],
   "source": [
    "enr = gp.enrichr(gene_list= dedf[dedf.log2fc > 0].gene.tolist(),\n",
    "                 gene_sets=['KEGG_2021_Human','GO_Biological_Process_2021'],\n",
    "                 organism='human', # don't forget to set organism to the one you desired!\n",
    "                 outdir=None, # don't write to disk,\n",
    "                 background = subset.var_names.tolist()\n",
    "                )"
   ]
  },
  {
   "cell_type": "code",
   "execution_count": null,
   "id": "1692a622",
   "metadata": {
    "id": "1692a622"
   },
   "outputs": [],
   "source": [
    "enr.results"
   ]
  },
  {
   "cell_type": "code",
   "execution_count": null,
   "id": "cbe7cdb7",
   "metadata": {
    "id": "cbe7cdb7"
   },
   "outputs": [],
   "source": []
  },
  {
   "cell_type": "markdown",
   "id": "ceb278f9",
   "metadata": {
    "id": "ceb278f9"
   },
   "source": [
    "## comparisons"
   ]
  },
  {
   "cell_type": "code",
   "execution_count": null,
   "id": "f5cdd5b1",
   "metadata": {
    "id": "f5cdd5b1"
   },
   "outputs": [],
   "source": [
    "sc.pl.violin(subset[subset.obs.cell_type == 'AT2'], 'ETV5', groupby='condition')"
   ]
  },
  {
   "cell_type": "code",
   "execution_count": null,
   "id": "39810384",
   "metadata": {
    "id": "39810384"
   },
   "outputs": [],
   "source": [
    "from scipy import stats"
   ]
  },
  {
   "cell_type": "code",
   "execution_count": null,
   "id": "7ab2d2a9",
   "metadata": {
    "id": "7ab2d2a9"
   },
   "outputs": [],
   "source": [
    "temp = subset[subset.obs.cell_type == 'AT2']\n",
    "\n",
    "i = np.where(temp.var_names == 'ETV5')[0][0]"
   ]
  },
  {
   "cell_type": "code",
   "execution_count": null,
   "id": "0e022a9a",
   "metadata": {
    "id": "0e022a9a"
   },
   "outputs": [],
   "source": [
    "a = temp[temp.obs.condition == 'COVID19'].X[:,i]\n",
    "b = temp[temp.obs.condition == 'control'].X[:,i]"
   ]
  },
  {
   "cell_type": "code",
   "execution_count": null,
   "id": "09fd84bf",
   "metadata": {
    "id": "09fd84bf"
   },
   "outputs": [],
   "source": [
    "stats.mannwhitneyu(a, b)"
   ]
  },
  {
   "cell_type": "markdown",
   "id": "5c50c638",
   "metadata": {
    "id": "5c50c638"
   },
   "source": [
    "## Score gene signature"
   ]
  },
  {
   "cell_type": "code",
   "execution_count": null,
   "id": "f4b68487",
   "metadata": {
    "id": "f4b68487"
   },
   "outputs": [],
   "source": [
    "#gene signature, ie, input list of genes from user\n",
    "with open('datp_sig.txt') as f:\n",
    "    datp_sig = [x.strip() for x in list(f)]\n"
   ]
  },
  {
   "cell_type": "code",
   "execution_count": null,
   "id": "73db4e1b",
   "metadata": {
    "id": "73db4e1b"
   },
   "outputs": [],
   "source": [
    "sc.tl.score_genes(subset, datp_sig, score_name = 'datp')"
   ]
  },
  {
   "cell_type": "code",
   "execution_count": null,
   "id": "b7178f90",
   "metadata": {
    "id": "b7178f90"
   },
   "outputs": [],
   "source": [
    "subset.obs"
   ]
  },
  {
   "cell_type": "code",
   "execution_count": null,
   "id": "3366bca6",
   "metadata": {
    "id": "3366bca6"
   },
   "outputs": [],
   "source": [
    "sc.pl.violin(subset, 'datp', groupby='condition')"
   ]
  },
  {
   "cell_type": "code",
   "execution_count": null,
   "id": "3c2fea2d",
   "metadata": {
    "id": "3c2fea2d"
   },
   "outputs": [],
   "source": [
    "a = subset[subset.obs.condition == 'COVID19'].obs.datp.values\n",
    "b = subset[subset.obs.condition == 'control'].obs.datp.values\n",
    "stats.mannwhitneyu(a, b)"
   ]
  },
  {
   "cell_type": "code",
   "execution_count": null,
   "id": "f1cce0e6",
   "metadata": {
    "id": "f1cce0e6"
   },
   "outputs": [],
   "source": [
    "sc.pl.umap(subset, color = 'datp', vmax = 1)"
   ]
  },
  {
   "cell_type": "code",
   "execution_count": null,
   "id": "54c37b78",
   "metadata": {
    "id": "54c37b78"
   },
   "outputs": [],
   "source": []
  },
  {
   "cell_type": "code",
   "execution_count": null,
   "id": "c29386cb",
   "metadata": {
    "id": "c29386cb"
   },
   "outputs": [],
   "source": []
  },
  {
   "cell_type": "code",
   "execution_count": null,
   "id": "a89ad219",
   "metadata": {
    "id": "a89ad219"
   },
   "outputs": [],
   "source": []
  },
  {
   "cell_type": "code",
   "execution_count": null,
   "id": "2ace1300",
   "metadata": {
    "id": "2ace1300"
   },
   "outputs": [],
   "source": []
  },
  {
   "cell_type": "code",
   "execution_count": null,
   "id": "bab9c303",
   "metadata": {
    "id": "bab9c303"
   },
   "outputs": [],
   "source": []
  },
  {
   "cell_type": "code",
   "execution_count": null,
   "id": "2370a5fb",
   "metadata": {
    "id": "2370a5fb"
   },
   "outputs": [],
   "source": [
    "#for thumbnail"
   ]
  },
  {
   "cell_type": "code",
   "execution_count": null,
   "id": "34222d83",
   "metadata": {
    "id": "34222d83"
   },
   "outputs": [],
   "source": [
    "from matplotlib.pyplot import rc_context\n"
   ]
  },
  {
   "cell_type": "code",
   "execution_count": null,
   "id": "ba88a217",
   "metadata": {
    "id": "ba88a217"
   },
   "outputs": [],
   "source": [
    "adata"
   ]
  },
  {
   "cell_type": "code",
   "execution_count": null,
   "id": "6eec4ee1",
   "metadata": {
    "id": "6eec4ee1"
   },
   "outputs": [],
   "source": [
    "with rc_context({'figure.figsize': (8,8)}):\n",
    "    sc.pl.umap(adata, color = ['cell type'], frameon = False, s = 5, legend_loc = 'on data',\n",
    "              legend_fontsize=12, legend_fontoutline=2)"
   ]
  },
  {
   "cell_type": "code",
   "execution_count": null,
   "id": "ee1ac193",
   "metadata": {
    "id": "ee1ac193"
   },
   "outputs": [],
   "source": [
    "with rc_context({'figure.figsize': (8,8)}):\n",
    "    sc.pl.umap(adata, color = ['MUC1'], frameon = False, layer = 'scvi_normalized', vmax = 5, s = 5)"
   ]
  },
  {
   "cell_type": "code",
   "execution_count": null,
   "id": "6003b83f",
   "metadata": {
    "id": "6003b83f"
   },
   "outputs": [],
   "source": []
  }
 ],
 "metadata": {
  "colab": {
   "provenance": []
  },
  "kernelspec": {
   "display_name": "Python 3 (ipykernel)",
   "language": "python",
   "name": "python3"
  },
  "language_info": {
   "codemirror_mode": {
    "name": "ipython",
    "version": 3
   },
   "file_extension": ".py",
   "mimetype": "text/x-python",
   "name": "python",
   "nbconvert_exporter": "python",
   "pygments_lexer": "ipython3",
   "version": "3.11.6"
  }
 },
 "nbformat": 4,
 "nbformat_minor": 5
}
